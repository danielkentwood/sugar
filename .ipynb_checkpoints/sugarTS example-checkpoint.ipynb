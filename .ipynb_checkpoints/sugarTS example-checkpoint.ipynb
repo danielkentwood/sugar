{
 "cells": [
  {
   "cell_type": "markdown",
   "metadata": {},
   "source": [
    "# SugarTS example\n",
    "This is a quick tutorial on how to engage with the sugarTS package."
   ]
  },
  {
   "cell_type": "code",
   "execution_count": 27,
   "metadata": {},
   "outputs": [],
   "source": [
    "import matplotlib.pyplot as plt\n",
    "%matplotlib inline\n",
    "from datetime import timedelta\n",
    "import itertools\n",
    "\n",
    "import pandas as pd\n",
    "import numpy as np\n",
    "import plotly.graph_objects as go\n",
    "\n",
    "from sugarTS import model\n",
    "from sugarTS import core"
   ]
  },
  {
   "cell_type": "code",
   "execution_count": 2,
   "metadata": {},
   "outputs": [],
   "source": [
    "# create a patient object\n",
    "patient = model.Patient()"
   ]
  },
  {
   "cell_type": "code",
   "execution_count": 3,
   "metadata": {},
   "outputs": [],
   "source": [
    "# fit the model to the patient's data\n",
    "patient.load_example_data()\n",
    "patient.split_data(target_name=[], feature_names=['estimated_glu','carb_grams','all_insulin'], split=[.75])"
   ]
  },
  {
   "cell_type": "code",
   "execution_count": 4,
   "metadata": {},
   "outputs": [
    {
     "data": {
      "text/html": [
       "<div>\n",
       "<style scoped>\n",
       "    .dataframe tbody tr th:only-of-type {\n",
       "        vertical-align: middle;\n",
       "    }\n",
       "\n",
       "    .dataframe tbody tr th {\n",
       "        vertical-align: top;\n",
       "    }\n",
       "\n",
       "    .dataframe thead th {\n",
       "        text-align: right;\n",
       "    }\n",
       "</style>\n",
       "<table border=\"1\" class=\"dataframe\">\n",
       "  <thead>\n",
       "    <tr style=\"text-align: right;\">\n",
       "      <th></th>\n",
       "      <th>estimated_glu</th>\n",
       "      <th>carb_grams</th>\n",
       "      <th>all_insulin</th>\n",
       "    </tr>\n",
       "    <tr>\n",
       "      <th>dt</th>\n",
       "      <th></th>\n",
       "      <th></th>\n",
       "      <th></th>\n",
       "    </tr>\n",
       "  </thead>\n",
       "  <tbody>\n",
       "    <tr>\n",
       "      <th>2020-02-01 00:00:00</th>\n",
       "      <td>83.0</td>\n",
       "      <td>0.0</td>\n",
       "      <td>0.5375</td>\n",
       "    </tr>\n",
       "    <tr>\n",
       "      <th>2020-02-01 00:05:00</th>\n",
       "      <td>81.0</td>\n",
       "      <td>0.0</td>\n",
       "      <td>0.5375</td>\n",
       "    </tr>\n",
       "    <tr>\n",
       "      <th>2020-02-01 00:10:00</th>\n",
       "      <td>79.0</td>\n",
       "      <td>0.0</td>\n",
       "      <td>0.0000</td>\n",
       "    </tr>\n",
       "    <tr>\n",
       "      <th>2020-02-01 00:15:00</th>\n",
       "      <td>75.0</td>\n",
       "      <td>0.0</td>\n",
       "      <td>0.0000</td>\n",
       "    </tr>\n",
       "    <tr>\n",
       "      <th>2020-02-01 00:20:00</th>\n",
       "      <td>69.0</td>\n",
       "      <td>66.0</td>\n",
       "      <td>0.0000</td>\n",
       "    </tr>\n",
       "    <tr>\n",
       "      <th>...</th>\n",
       "      <td>...</td>\n",
       "      <td>...</td>\n",
       "      <td>...</td>\n",
       "    </tr>\n",
       "    <tr>\n",
       "      <th>2020-04-22 10:15:00</th>\n",
       "      <td>78.0</td>\n",
       "      <td>0.0</td>\n",
       "      <td>0.6500</td>\n",
       "    </tr>\n",
       "    <tr>\n",
       "      <th>2020-04-22 10:20:00</th>\n",
       "      <td>79.0</td>\n",
       "      <td>0.0</td>\n",
       "      <td>0.6500</td>\n",
       "    </tr>\n",
       "    <tr>\n",
       "      <th>2020-04-22 10:25:00</th>\n",
       "      <td>83.0</td>\n",
       "      <td>0.0</td>\n",
       "      <td>0.6500</td>\n",
       "    </tr>\n",
       "    <tr>\n",
       "      <th>2020-04-22 10:30:00</th>\n",
       "      <td>83.0</td>\n",
       "      <td>0.0</td>\n",
       "      <td>0.6500</td>\n",
       "    </tr>\n",
       "    <tr>\n",
       "      <th>2020-04-22 10:35:00</th>\n",
       "      <td>80.0</td>\n",
       "      <td>0.0</td>\n",
       "      <td>0.6500</td>\n",
       "    </tr>\n",
       "  </tbody>\n",
       "</table>\n",
       "<p>23456 rows × 3 columns</p>\n",
       "</div>"
      ],
      "text/plain": [
       "                     estimated_glu  carb_grams  all_insulin\n",
       "dt                                                         \n",
       "2020-02-01 00:00:00           83.0         0.0       0.5375\n",
       "2020-02-01 00:05:00           81.0         0.0       0.5375\n",
       "2020-02-01 00:10:00           79.0         0.0       0.0000\n",
       "2020-02-01 00:15:00           75.0         0.0       0.0000\n",
       "2020-02-01 00:20:00           69.0        66.0       0.0000\n",
       "...                            ...         ...          ...\n",
       "2020-04-22 10:15:00           78.0         0.0       0.6500\n",
       "2020-04-22 10:20:00           79.0         0.0       0.6500\n",
       "2020-04-22 10:25:00           83.0         0.0       0.6500\n",
       "2020-04-22 10:30:00           83.0         0.0       0.6500\n",
       "2020-04-22 10:35:00           80.0         0.0       0.6500\n",
       "\n",
       "[23456 rows x 3 columns]"
      ]
     },
     "execution_count": 4,
     "metadata": {},
     "output_type": "execute_result"
    }
   ],
   "source": [
    "patient.data"
   ]
  },
  {
   "cell_type": "code",
   "execution_count": 5,
   "metadata": {},
   "outputs": [],
   "source": [
    "vm = model.VARModel(patient)"
   ]
  },
  {
   "cell_type": "code",
   "execution_count": 6,
   "metadata": {},
   "outputs": [],
   "source": [
    "vm.fit_model(maxlags=40, ic='aic')"
   ]
  },
  {
   "cell_type": "code",
   "execution_count": 25,
   "metadata": {
    "tags": []
   },
   "outputs": [],
   "source": [
    "# decide on meal (how many carbs? when?)\n",
    "current_time = patient.Xtest.index[-1]\n",
    "carb_time = current_time + timedelta(minutes=25)\n",
    "carbs = 200\n",
    "\n",
    "# calculate the optimal bolus\n",
    "optimal = vm.find_optimal_bolus(patient.Xtest, carbs, carb_time)\n"
   ]
  },
  {
   "cell_type": "code",
   "execution_count": 29,
   "metadata": {
    "tags": []
   },
   "outputs": [
    {
     "name": "stdout",
     "output_type": "stream",
     "text": [
      "\n",
      "\n",
      "Current time is 2020-04-22 10:35:00\n",
      "Give yourself a bolus of 4 units at 2020-04-22 10:40:00\n"
     ]
    },
    {
     "data": {
      "application/vnd.plotly.v1+json": {
       "config": {
        "plotlyServerURL": "https://plot.ly"
       },
       "data": [
        {
         "mode": "lines",
         "name": "y",
         "type": "scatter",
         "x": [
          "2020-04-22T06:30:00",
          "2020-04-22T06:35:00",
          "2020-04-22T06:40:00",
          "2020-04-22T06:45:00",
          "2020-04-22T06:50:00",
          "2020-04-22T06:55:00",
          "2020-04-22T07:00:00",
          "2020-04-22T07:05:00",
          "2020-04-22T07:10:00",
          "2020-04-22T07:15:00",
          "2020-04-22T07:20:00",
          "2020-04-22T07:25:00",
          "2020-04-22T07:30:00",
          "2020-04-22T07:35:00",
          "2020-04-22T07:40:00",
          "2020-04-22T07:45:00",
          "2020-04-22T07:50:00",
          "2020-04-22T07:55:00",
          "2020-04-22T08:00:00",
          "2020-04-22T08:05:00",
          "2020-04-22T08:10:00",
          "2020-04-22T08:15:00",
          "2020-04-22T08:20:00",
          "2020-04-22T08:25:00",
          "2020-04-22T08:30:00",
          "2020-04-22T08:35:00",
          "2020-04-22T08:40:00",
          "2020-04-22T08:45:00",
          "2020-04-22T08:50:00",
          "2020-04-22T08:55:00",
          "2020-04-22T09:00:00",
          "2020-04-22T09:05:00",
          "2020-04-22T09:10:00",
          "2020-04-22T09:15:00",
          "2020-04-22T09:20:00",
          "2020-04-22T09:25:00",
          "2020-04-22T09:30:00",
          "2020-04-22T09:35:00",
          "2020-04-22T09:40:00",
          "2020-04-22T09:45:00",
          "2020-04-22T09:50:00",
          "2020-04-22T09:55:00",
          "2020-04-22T10:00:00",
          "2020-04-22T10:05:00",
          "2020-04-22T10:10:00",
          "2020-04-22T10:15:00",
          "2020-04-22T10:20:00",
          "2020-04-22T10:25:00",
          "2020-04-22T10:30:00",
          "2020-04-22T10:35:00"
         ],
         "y": [
          132,
          132,
          131,
          119,
          110,
          118,
          137,
          141,
          142,
          139,
          138,
          134,
          132,
          130,
          129,
          126,
          124,
          124,
          126,
          127,
          127,
          127,
          126,
          127,
          127,
          125,
          122,
          114,
          99,
          95,
          95,
          98,
          100,
          104,
          108,
          112,
          114,
          113,
          110,
          106,
          102,
          97,
          92,
          86,
          80,
          78,
          79,
          83,
          83,
          80
         ]
        },
        {
         "mode": "lines",
         "name": "y_forecast",
         "type": "scatter",
         "x": [
          "2020-04-22T10:40:00",
          "2020-04-22T10:45:00",
          "2020-04-22T10:50:00",
          "2020-04-22T10:55:00",
          "2020-04-22T11:00:00",
          "2020-04-22T11:05:00",
          "2020-04-22T11:10:00",
          "2020-04-22T11:15:00",
          "2020-04-22T11:20:00",
          "2020-04-22T11:25:00",
          "2020-04-22T11:30:00",
          "2020-04-22T11:35:00",
          "2020-04-22T11:40:00",
          "2020-04-22T11:45:00",
          "2020-04-22T11:50:00",
          "2020-04-22T11:55:00",
          "2020-04-22T12:00:00",
          "2020-04-22T12:05:00",
          "2020-04-22T12:10:00",
          "2020-04-22T12:15:00",
          "2020-04-22T12:20:00",
          "2020-04-22T12:25:00",
          "2020-04-22T12:30:00"
         ],
         "y": [
          78.46601395784101,
          78.71165093616749,
          80.1502617307156,
          82.0070444592879,
          83.46612515964429,
          81.67986541123469,
          77.66753654603248,
          75.1549844583586,
          81.29931818989037,
          95.5536605140199,
          113.55173791359954,
          129.90669049659382,
          143.7009463577002,
          150.8346435396391,
          153.80762311418147,
          154.36069852907934,
          153.59078586702577,
          152.10098666285538,
          150.16378462565984,
          147.88369370288012,
          145.3338636116719,
          142.6082920302757,
          139.7987294652451
         ]
        },
        {
         "mode": "lines",
         "name": "lower bound",
         "type": "scatter",
         "x": [
          "2020-04-22T06:30:00",
          "2020-04-22T06:35:00",
          "2020-04-22T06:40:00",
          "2020-04-22T06:45:00",
          "2020-04-22T06:50:00",
          "2020-04-22T06:55:00",
          "2020-04-22T07:00:00",
          "2020-04-22T07:05:00",
          "2020-04-22T07:10:00",
          "2020-04-22T07:15:00",
          "2020-04-22T07:20:00",
          "2020-04-22T07:25:00",
          "2020-04-22T07:30:00",
          "2020-04-22T07:35:00",
          "2020-04-22T07:40:00",
          "2020-04-22T07:45:00",
          "2020-04-22T07:50:00",
          "2020-04-22T07:55:00",
          "2020-04-22T08:00:00",
          "2020-04-22T08:05:00",
          "2020-04-22T08:10:00",
          "2020-04-22T08:15:00",
          "2020-04-22T08:20:00",
          "2020-04-22T08:25:00",
          "2020-04-22T08:30:00",
          "2020-04-22T08:35:00",
          "2020-04-22T08:40:00",
          "2020-04-22T08:45:00",
          "2020-04-22T08:50:00",
          "2020-04-22T08:55:00",
          "2020-04-22T09:00:00",
          "2020-04-22T09:05:00",
          "2020-04-22T09:10:00",
          "2020-04-22T09:15:00",
          "2020-04-22T09:20:00",
          "2020-04-22T09:25:00",
          "2020-04-22T09:30:00",
          "2020-04-22T09:35:00",
          "2020-04-22T09:40:00",
          "2020-04-22T09:45:00",
          "2020-04-22T09:50:00",
          "2020-04-22T09:55:00",
          "2020-04-22T10:00:00",
          "2020-04-22T10:05:00",
          "2020-04-22T10:10:00",
          "2020-04-22T10:15:00",
          "2020-04-22T10:20:00",
          "2020-04-22T10:25:00",
          "2020-04-22T10:30:00",
          "2020-04-22T10:35:00",
          "2020-04-22T10:40:00",
          "2020-04-22T10:45:00",
          "2020-04-22T10:50:00",
          "2020-04-22T10:55:00",
          "2020-04-22T11:00:00",
          "2020-04-22T11:05:00",
          "2020-04-22T11:10:00",
          "2020-04-22T11:15:00",
          "2020-04-22T11:20:00",
          "2020-04-22T11:25:00",
          "2020-04-22T11:30:00",
          "2020-04-22T11:35:00",
          "2020-04-22T11:40:00",
          "2020-04-22T11:45:00",
          "2020-04-22T11:50:00",
          "2020-04-22T11:55:00",
          "2020-04-22T12:00:00",
          "2020-04-22T12:05:00",
          "2020-04-22T12:10:00",
          "2020-04-22T12:15:00",
          "2020-04-22T12:20:00",
          "2020-04-22T12:25:00",
          "2020-04-22T12:30:00"
         ],
         "y": [
          80,
          80,
          80,
          80,
          80,
          80,
          80,
          80,
          80,
          80,
          80,
          80,
          80,
          80,
          80,
          80,
          80,
          80,
          80,
          80,
          80,
          80,
          80,
          80,
          80,
          80,
          80,
          80,
          80,
          80,
          80,
          80,
          80,
          80,
          80,
          80,
          80,
          80,
          80,
          80,
          80,
          80,
          80,
          80,
          80,
          80,
          80,
          80,
          80,
          80,
          80,
          80,
          80,
          80,
          80,
          80,
          80,
          80,
          80,
          80,
          80,
          80,
          80,
          80,
          80,
          80,
          80,
          80,
          80,
          80,
          80,
          80,
          80
         ]
        },
        {
         "mode": "lines",
         "name": "upper bound",
         "type": "scatter",
         "x": [
          "2020-04-22T06:30:00",
          "2020-04-22T06:35:00",
          "2020-04-22T06:40:00",
          "2020-04-22T06:45:00",
          "2020-04-22T06:50:00",
          "2020-04-22T06:55:00",
          "2020-04-22T07:00:00",
          "2020-04-22T07:05:00",
          "2020-04-22T07:10:00",
          "2020-04-22T07:15:00",
          "2020-04-22T07:20:00",
          "2020-04-22T07:25:00",
          "2020-04-22T07:30:00",
          "2020-04-22T07:35:00",
          "2020-04-22T07:40:00",
          "2020-04-22T07:45:00",
          "2020-04-22T07:50:00",
          "2020-04-22T07:55:00",
          "2020-04-22T08:00:00",
          "2020-04-22T08:05:00",
          "2020-04-22T08:10:00",
          "2020-04-22T08:15:00",
          "2020-04-22T08:20:00",
          "2020-04-22T08:25:00",
          "2020-04-22T08:30:00",
          "2020-04-22T08:35:00",
          "2020-04-22T08:40:00",
          "2020-04-22T08:45:00",
          "2020-04-22T08:50:00",
          "2020-04-22T08:55:00",
          "2020-04-22T09:00:00",
          "2020-04-22T09:05:00",
          "2020-04-22T09:10:00",
          "2020-04-22T09:15:00",
          "2020-04-22T09:20:00",
          "2020-04-22T09:25:00",
          "2020-04-22T09:30:00",
          "2020-04-22T09:35:00",
          "2020-04-22T09:40:00",
          "2020-04-22T09:45:00",
          "2020-04-22T09:50:00",
          "2020-04-22T09:55:00",
          "2020-04-22T10:00:00",
          "2020-04-22T10:05:00",
          "2020-04-22T10:10:00",
          "2020-04-22T10:15:00",
          "2020-04-22T10:20:00",
          "2020-04-22T10:25:00",
          "2020-04-22T10:30:00",
          "2020-04-22T10:35:00",
          "2020-04-22T10:40:00",
          "2020-04-22T10:45:00",
          "2020-04-22T10:50:00",
          "2020-04-22T10:55:00",
          "2020-04-22T11:00:00",
          "2020-04-22T11:05:00",
          "2020-04-22T11:10:00",
          "2020-04-22T11:15:00",
          "2020-04-22T11:20:00",
          "2020-04-22T11:25:00",
          "2020-04-22T11:30:00",
          "2020-04-22T11:35:00",
          "2020-04-22T11:40:00",
          "2020-04-22T11:45:00",
          "2020-04-22T11:50:00",
          "2020-04-22T11:55:00",
          "2020-04-22T12:00:00",
          "2020-04-22T12:05:00",
          "2020-04-22T12:10:00",
          "2020-04-22T12:15:00",
          "2020-04-22T12:20:00",
          "2020-04-22T12:25:00",
          "2020-04-22T12:30:00"
         ],
         "y": [
          140,
          140,
          140,
          140,
          140,
          140,
          140,
          140,
          140,
          140,
          140,
          140,
          140,
          140,
          140,
          140,
          140,
          140,
          140,
          140,
          140,
          140,
          140,
          140,
          140,
          140,
          140,
          140,
          140,
          140,
          140,
          140,
          140,
          140,
          140,
          140,
          140,
          140,
          140,
          140,
          140,
          140,
          140,
          140,
          140,
          140,
          140,
          140,
          140,
          140,
          140,
          140,
          140,
          140,
          140,
          140,
          140,
          140,
          140,
          140,
          140,
          140,
          140,
          140,
          140,
          140,
          140,
          140,
          140,
          140,
          140,
          140,
          140
         ]
        }
       ],
       "layout": {
        "autosize": true,
        "template": {
         "data": {
          "bar": [
           {
            "error_x": {
             "color": "#2a3f5f"
            },
            "error_y": {
             "color": "#2a3f5f"
            },
            "marker": {
             "line": {
              "color": "#E5ECF6",
              "width": 0.5
             }
            },
            "type": "bar"
           }
          ],
          "barpolar": [
           {
            "marker": {
             "line": {
              "color": "#E5ECF6",
              "width": 0.5
             }
            },
            "type": "barpolar"
           }
          ],
          "carpet": [
           {
            "aaxis": {
             "endlinecolor": "#2a3f5f",
             "gridcolor": "white",
             "linecolor": "white",
             "minorgridcolor": "white",
             "startlinecolor": "#2a3f5f"
            },
            "baxis": {
             "endlinecolor": "#2a3f5f",
             "gridcolor": "white",
             "linecolor": "white",
             "minorgridcolor": "white",
             "startlinecolor": "#2a3f5f"
            },
            "type": "carpet"
           }
          ],
          "choropleth": [
           {
            "colorbar": {
             "outlinewidth": 0,
             "ticks": ""
            },
            "type": "choropleth"
           }
          ],
          "contour": [
           {
            "colorbar": {
             "outlinewidth": 0,
             "ticks": ""
            },
            "colorscale": [
             [
              0,
              "#0d0887"
             ],
             [
              0.1111111111111111,
              "#46039f"
             ],
             [
              0.2222222222222222,
              "#7201a8"
             ],
             [
              0.3333333333333333,
              "#9c179e"
             ],
             [
              0.4444444444444444,
              "#bd3786"
             ],
             [
              0.5555555555555556,
              "#d8576b"
             ],
             [
              0.6666666666666666,
              "#ed7953"
             ],
             [
              0.7777777777777778,
              "#fb9f3a"
             ],
             [
              0.8888888888888888,
              "#fdca26"
             ],
             [
              1,
              "#f0f921"
             ]
            ],
            "type": "contour"
           }
          ],
          "contourcarpet": [
           {
            "colorbar": {
             "outlinewidth": 0,
             "ticks": ""
            },
            "type": "contourcarpet"
           }
          ],
          "heatmap": [
           {
            "colorbar": {
             "outlinewidth": 0,
             "ticks": ""
            },
            "colorscale": [
             [
              0,
              "#0d0887"
             ],
             [
              0.1111111111111111,
              "#46039f"
             ],
             [
              0.2222222222222222,
              "#7201a8"
             ],
             [
              0.3333333333333333,
              "#9c179e"
             ],
             [
              0.4444444444444444,
              "#bd3786"
             ],
             [
              0.5555555555555556,
              "#d8576b"
             ],
             [
              0.6666666666666666,
              "#ed7953"
             ],
             [
              0.7777777777777778,
              "#fb9f3a"
             ],
             [
              0.8888888888888888,
              "#fdca26"
             ],
             [
              1,
              "#f0f921"
             ]
            ],
            "type": "heatmap"
           }
          ],
          "heatmapgl": [
           {
            "colorbar": {
             "outlinewidth": 0,
             "ticks": ""
            },
            "colorscale": [
             [
              0,
              "#0d0887"
             ],
             [
              0.1111111111111111,
              "#46039f"
             ],
             [
              0.2222222222222222,
              "#7201a8"
             ],
             [
              0.3333333333333333,
              "#9c179e"
             ],
             [
              0.4444444444444444,
              "#bd3786"
             ],
             [
              0.5555555555555556,
              "#d8576b"
             ],
             [
              0.6666666666666666,
              "#ed7953"
             ],
             [
              0.7777777777777778,
              "#fb9f3a"
             ],
             [
              0.8888888888888888,
              "#fdca26"
             ],
             [
              1,
              "#f0f921"
             ]
            ],
            "type": "heatmapgl"
           }
          ],
          "histogram": [
           {
            "marker": {
             "colorbar": {
              "outlinewidth": 0,
              "ticks": ""
             }
            },
            "type": "histogram"
           }
          ],
          "histogram2d": [
           {
            "colorbar": {
             "outlinewidth": 0,
             "ticks": ""
            },
            "colorscale": [
             [
              0,
              "#0d0887"
             ],
             [
              0.1111111111111111,
              "#46039f"
             ],
             [
              0.2222222222222222,
              "#7201a8"
             ],
             [
              0.3333333333333333,
              "#9c179e"
             ],
             [
              0.4444444444444444,
              "#bd3786"
             ],
             [
              0.5555555555555556,
              "#d8576b"
             ],
             [
              0.6666666666666666,
              "#ed7953"
             ],
             [
              0.7777777777777778,
              "#fb9f3a"
             ],
             [
              0.8888888888888888,
              "#fdca26"
             ],
             [
              1,
              "#f0f921"
             ]
            ],
            "type": "histogram2d"
           }
          ],
          "histogram2dcontour": [
           {
            "colorbar": {
             "outlinewidth": 0,
             "ticks": ""
            },
            "colorscale": [
             [
              0,
              "#0d0887"
             ],
             [
              0.1111111111111111,
              "#46039f"
             ],
             [
              0.2222222222222222,
              "#7201a8"
             ],
             [
              0.3333333333333333,
              "#9c179e"
             ],
             [
              0.4444444444444444,
              "#bd3786"
             ],
             [
              0.5555555555555556,
              "#d8576b"
             ],
             [
              0.6666666666666666,
              "#ed7953"
             ],
             [
              0.7777777777777778,
              "#fb9f3a"
             ],
             [
              0.8888888888888888,
              "#fdca26"
             ],
             [
              1,
              "#f0f921"
             ]
            ],
            "type": "histogram2dcontour"
           }
          ],
          "mesh3d": [
           {
            "colorbar": {
             "outlinewidth": 0,
             "ticks": ""
            },
            "type": "mesh3d"
           }
          ],
          "parcoords": [
           {
            "line": {
             "colorbar": {
              "outlinewidth": 0,
              "ticks": ""
             }
            },
            "type": "parcoords"
           }
          ],
          "pie": [
           {
            "automargin": true,
            "type": "pie"
           }
          ],
          "scatter": [
           {
            "marker": {
             "colorbar": {
              "outlinewidth": 0,
              "ticks": ""
             }
            },
            "type": "scatter"
           }
          ],
          "scatter3d": [
           {
            "line": {
             "colorbar": {
              "outlinewidth": 0,
              "ticks": ""
             }
            },
            "marker": {
             "colorbar": {
              "outlinewidth": 0,
              "ticks": ""
             }
            },
            "type": "scatter3d"
           }
          ],
          "scattercarpet": [
           {
            "marker": {
             "colorbar": {
              "outlinewidth": 0,
              "ticks": ""
             }
            },
            "type": "scattercarpet"
           }
          ],
          "scattergeo": [
           {
            "marker": {
             "colorbar": {
              "outlinewidth": 0,
              "ticks": ""
             }
            },
            "type": "scattergeo"
           }
          ],
          "scattergl": [
           {
            "marker": {
             "colorbar": {
              "outlinewidth": 0,
              "ticks": ""
             }
            },
            "type": "scattergl"
           }
          ],
          "scattermapbox": [
           {
            "marker": {
             "colorbar": {
              "outlinewidth": 0,
              "ticks": ""
             }
            },
            "type": "scattermapbox"
           }
          ],
          "scatterpolar": [
           {
            "marker": {
             "colorbar": {
              "outlinewidth": 0,
              "ticks": ""
             }
            },
            "type": "scatterpolar"
           }
          ],
          "scatterpolargl": [
           {
            "marker": {
             "colorbar": {
              "outlinewidth": 0,
              "ticks": ""
             }
            },
            "type": "scatterpolargl"
           }
          ],
          "scatterternary": [
           {
            "marker": {
             "colorbar": {
              "outlinewidth": 0,
              "ticks": ""
             }
            },
            "type": "scatterternary"
           }
          ],
          "surface": [
           {
            "colorbar": {
             "outlinewidth": 0,
             "ticks": ""
            },
            "colorscale": [
             [
              0,
              "#0d0887"
             ],
             [
              0.1111111111111111,
              "#46039f"
             ],
             [
              0.2222222222222222,
              "#7201a8"
             ],
             [
              0.3333333333333333,
              "#9c179e"
             ],
             [
              0.4444444444444444,
              "#bd3786"
             ],
             [
              0.5555555555555556,
              "#d8576b"
             ],
             [
              0.6666666666666666,
              "#ed7953"
             ],
             [
              0.7777777777777778,
              "#fb9f3a"
             ],
             [
              0.8888888888888888,
              "#fdca26"
             ],
             [
              1,
              "#f0f921"
             ]
            ],
            "type": "surface"
           }
          ],
          "table": [
           {
            "cells": {
             "fill": {
              "color": "#EBF0F8"
             },
             "line": {
              "color": "white"
             }
            },
            "header": {
             "fill": {
              "color": "#C8D4E3"
             },
             "line": {
              "color": "white"
             }
            },
            "type": "table"
           }
          ]
         },
         "layout": {
          "annotationdefaults": {
           "arrowcolor": "#2a3f5f",
           "arrowhead": 0,
           "arrowwidth": 1
          },
          "coloraxis": {
           "colorbar": {
            "outlinewidth": 0,
            "ticks": ""
           }
          },
          "colorscale": {
           "diverging": [
            [
             0,
             "#8e0152"
            ],
            [
             0.1,
             "#c51b7d"
            ],
            [
             0.2,
             "#de77ae"
            ],
            [
             0.3,
             "#f1b6da"
            ],
            [
             0.4,
             "#fde0ef"
            ],
            [
             0.5,
             "#f7f7f7"
            ],
            [
             0.6,
             "#e6f5d0"
            ],
            [
             0.7,
             "#b8e186"
            ],
            [
             0.8,
             "#7fbc41"
            ],
            [
             0.9,
             "#4d9221"
            ],
            [
             1,
             "#276419"
            ]
           ],
           "sequential": [
            [
             0,
             "#0d0887"
            ],
            [
             0.1111111111111111,
             "#46039f"
            ],
            [
             0.2222222222222222,
             "#7201a8"
            ],
            [
             0.3333333333333333,
             "#9c179e"
            ],
            [
             0.4444444444444444,
             "#bd3786"
            ],
            [
             0.5555555555555556,
             "#d8576b"
            ],
            [
             0.6666666666666666,
             "#ed7953"
            ],
            [
             0.7777777777777778,
             "#fb9f3a"
            ],
            [
             0.8888888888888888,
             "#fdca26"
            ],
            [
             1,
             "#f0f921"
            ]
           ],
           "sequentialminus": [
            [
             0,
             "#0d0887"
            ],
            [
             0.1111111111111111,
             "#46039f"
            ],
            [
             0.2222222222222222,
             "#7201a8"
            ],
            [
             0.3333333333333333,
             "#9c179e"
            ],
            [
             0.4444444444444444,
             "#bd3786"
            ],
            [
             0.5555555555555556,
             "#d8576b"
            ],
            [
             0.6666666666666666,
             "#ed7953"
            ],
            [
             0.7777777777777778,
             "#fb9f3a"
            ],
            [
             0.8888888888888888,
             "#fdca26"
            ],
            [
             1,
             "#f0f921"
            ]
           ]
          },
          "colorway": [
           "#636efa",
           "#EF553B",
           "#00cc96",
           "#ab63fa",
           "#FFA15A",
           "#19d3f3",
           "#FF6692",
           "#B6E880",
           "#FF97FF",
           "#FECB52"
          ],
          "font": {
           "color": "#2a3f5f"
          },
          "geo": {
           "bgcolor": "white",
           "lakecolor": "white",
           "landcolor": "#E5ECF6",
           "showlakes": true,
           "showland": true,
           "subunitcolor": "white"
          },
          "hoverlabel": {
           "align": "left"
          },
          "hovermode": "closest",
          "mapbox": {
           "style": "light"
          },
          "paper_bgcolor": "white",
          "plot_bgcolor": "#E5ECF6",
          "polar": {
           "angularaxis": {
            "gridcolor": "white",
            "linecolor": "white",
            "ticks": ""
           },
           "bgcolor": "#E5ECF6",
           "radialaxis": {
            "gridcolor": "white",
            "linecolor": "white",
            "ticks": ""
           }
          },
          "scene": {
           "xaxis": {
            "backgroundcolor": "#E5ECF6",
            "gridcolor": "white",
            "gridwidth": 2,
            "linecolor": "white",
            "showbackground": true,
            "ticks": "",
            "zerolinecolor": "white"
           },
           "yaxis": {
            "backgroundcolor": "#E5ECF6",
            "gridcolor": "white",
            "gridwidth": 2,
            "linecolor": "white",
            "showbackground": true,
            "ticks": "",
            "zerolinecolor": "white"
           },
           "zaxis": {
            "backgroundcolor": "#E5ECF6",
            "gridcolor": "white",
            "gridwidth": 2,
            "linecolor": "white",
            "showbackground": true,
            "ticks": "",
            "zerolinecolor": "white"
           }
          },
          "shapedefaults": {
           "line": {
            "color": "#2a3f5f"
           }
          },
          "ternary": {
           "aaxis": {
            "gridcolor": "white",
            "linecolor": "white",
            "ticks": ""
           },
           "baxis": {
            "gridcolor": "white",
            "linecolor": "white",
            "ticks": ""
           },
           "bgcolor": "#E5ECF6",
           "caxis": {
            "gridcolor": "white",
            "linecolor": "white",
            "ticks": ""
           }
          },
          "title": {
           "x": 0.05
          },
          "xaxis": {
           "automargin": true,
           "gridcolor": "white",
           "linecolor": "white",
           "ticks": "",
           "title": {
            "standoff": 15
           },
           "zerolinecolor": "white",
           "zerolinewidth": 2
          },
          "yaxis": {
           "automargin": true,
           "gridcolor": "white",
           "linecolor": "white",
           "ticks": "",
           "title": {
            "standoff": 15
           },
           "zerolinecolor": "white",
           "zerolinewidth": 2
          }
         }
        },
        "xaxis": {
         "autorange": true,
         "linecolor": "black",
         "linewidth": 2,
         "range": [
          "2020-04-22 06:30",
          "2020-04-22 12:30"
         ],
         "showline": true,
         "title": {
          "font": {
           "size": 18
          },
          "text": "Time"
         },
         "type": "date"
        },
        "yaxis": {
         "autorange": true,
         "linecolor": "black",
         "linewidth": 2,
         "range": [
          70.75466700998523,
          158.76101597745273
         ],
         "showline": true,
         "title": {
          "font": {
           "size": 18
          },
          "text": "Blood Glucose"
         },
         "type": "linear"
        }
       }
      },
      "image/png": "[encoded data removed]",
      "text/html": [
       "<div>                            <div id=\"a9af4f75-0260-4bf3-86ce-f74d56916113\" class=\"plotly-graph-div\" style=\"height:525px; width:100%;\"></div>            <script type=\"text/javascript\">                require([\"plotly\"], function(Plotly) {                    window.PLOTLYENV=window.PLOTLYENV || {};                                    if (document.getElementById(\"a9af4f75-0260-4bf3-86ce-f74d56916113\")) {                    Plotly.newPlot(                        \"a9af4f75-0260-4bf3-86ce-f74d56916113\",                        [{\"mode\": \"lines\", \"name\": \"y\", \"type\": \"scatter\", \"x\": [\"2020-04-22T06:30:00\", \"2020-04-22T06:35:00\", \"2020-04-22T06:40:00\", \"2020-04-22T06:45:00\", \"2020-04-22T06:50:00\", \"2020-04-22T06:55:00\", \"2020-04-22T07:00:00\", \"2020-04-22T07:05:00\", \"2020-04-22T07:10:00\", \"2020-04-22T07:15:00\", \"2020-04-22T07:20:00\", \"2020-04-22T07:25:00\", \"2020-04-22T07:30:00\", \"2020-04-22T07:35:00\", \"2020-04-22T07:40:00\", \"2020-04-22T07:45:00\", \"2020-04-22T07:50:00\", \"2020-04-22T07:55:00\", \"2020-04-22T08:00:00\", \"2020-04-22T08:05:00\", \"2020-04-22T08:10:00\", \"2020-04-22T08:15:00\", \"2020-04-22T08:20:00\", \"2020-04-22T08:25:00\", \"2020-04-22T08:30:00\", \"2020-04-22T08:35:00\", \"2020-04-22T08:40:00\", \"2020-04-22T08:45:00\", \"2020-04-22T08:50:00\", \"2020-04-22T08:55:00\", \"2020-04-22T09:00:00\", \"2020-04-22T09:05:00\", \"2020-04-22T09:10:00\", \"2020-04-22T09:15:00\", \"2020-04-22T09:20:00\", \"2020-04-22T09:25:00\", \"2020-04-22T09:30:00\", \"2020-04-22T09:35:00\", \"2020-04-22T09:40:00\", \"2020-04-22T09:45:00\", \"2020-04-22T09:50:00\", \"2020-04-22T09:55:00\", \"2020-04-22T10:00:00\", \"2020-04-22T10:05:00\", \"2020-04-22T10:10:00\", \"2020-04-22T10:15:00\", \"2020-04-22T10:20:00\", \"2020-04-22T10:25:00\", \"2020-04-22T10:30:00\", \"2020-04-22T10:35:00\"], \"y\": [132.0, 132.0, 131.0, 119.0, 110.0, 118.0, 137.0, 141.0, 142.0, 139.0, 138.0, 134.0, 132.0, 130.0, 129.0, 126.0, 124.0, 124.0, 126.0, 127.0, 127.0, 127.0, 126.0, 127.0, 127.0, 125.0, 122.0, 114.0, 99.0, 95.0, 95.0, 98.0, 100.0, 104.0, 108.0, 112.0, 114.0, 113.0, 110.0, 106.0, 102.0, 97.0, 92.0, 86.0, 80.0, 78.0, 79.0, 83.0, 83.0, 80.0]}, {\"mode\": \"lines\", \"name\": \"y_forecast\", \"type\": \"scatter\", \"x\": [\"2020-04-22T10:40:00\", \"2020-04-22T10:45:00\", \"2020-04-22T10:50:00\", \"2020-04-22T10:55:00\", \"2020-04-22T11:00:00\", \"2020-04-22T11:05:00\", \"2020-04-22T11:10:00\", \"2020-04-22T11:15:00\", \"2020-04-22T11:20:00\", \"2020-04-22T11:25:00\", \"2020-04-22T11:30:00\", \"2020-04-22T11:35:00\", \"2020-04-22T11:40:00\", \"2020-04-22T11:45:00\", \"2020-04-22T11:50:00\", \"2020-04-22T11:55:00\", \"2020-04-22T12:00:00\", \"2020-04-22T12:05:00\", \"2020-04-22T12:10:00\", \"2020-04-22T12:15:00\", \"2020-04-22T12:20:00\", \"2020-04-22T12:25:00\", \"2020-04-22T12:30:00\"], \"y\": [78.46601395784101, 78.71165093616749, 80.1502617307156, 82.0070444592879, 83.46612515964429, 81.67986541123469, 77.66753654603248, 75.1549844583586, 81.29931818989037, 95.5536605140199, 113.55173791359954, 129.90669049659382, 143.7009463577002, 150.8346435396391, 153.80762311418147, 154.36069852907934, 153.59078586702577, 152.10098666285538, 150.16378462565984, 147.88369370288012, 145.3338636116719, 142.6082920302757, 139.7987294652451]}, {\"mode\": \"lines\", \"name\": \"lower bound\", \"type\": \"scatter\", \"x\": [\"2020-04-22T06:30:00\", \"2020-04-22T06:35:00\", \"2020-04-22T06:40:00\", \"2020-04-22T06:45:00\", \"2020-04-22T06:50:00\", \"2020-04-22T06:55:00\", \"2020-04-22T07:00:00\", \"2020-04-22T07:05:00\", \"2020-04-22T07:10:00\", \"2020-04-22T07:15:00\", \"2020-04-22T07:20:00\", \"2020-04-22T07:25:00\", \"2020-04-22T07:30:00\", \"2020-04-22T07:35:00\", \"2020-04-22T07:40:00\", \"2020-04-22T07:45:00\", \"2020-04-22T07:50:00\", \"2020-04-22T07:55:00\", \"2020-04-22T08:00:00\", \"2020-04-22T08:05:00\", \"2020-04-22T08:10:00\", \"2020-04-22T08:15:00\", \"2020-04-22T08:20:00\", \"2020-04-22T08:25:00\", \"2020-04-22T08:30:00\", \"2020-04-22T08:35:00\", \"2020-04-22T08:40:00\", \"2020-04-22T08:45:00\", \"2020-04-22T08:50:00\", \"2020-04-22T08:55:00\", \"2020-04-22T09:00:00\", \"2020-04-22T09:05:00\", \"2020-04-22T09:10:00\", \"2020-04-22T09:15:00\", \"2020-04-22T09:20:00\", \"2020-04-22T09:25:00\", \"2020-04-22T09:30:00\", \"2020-04-22T09:35:00\", \"2020-04-22T09:40:00\", \"2020-04-22T09:45:00\", \"2020-04-22T09:50:00\", \"2020-04-22T09:55:00\", \"2020-04-22T10:00:00\", \"2020-04-22T10:05:00\", \"2020-04-22T10:10:00\", \"2020-04-22T10:15:00\", \"2020-04-22T10:20:00\", \"2020-04-22T10:25:00\", \"2020-04-22T10:30:00\", \"2020-04-22T10:35:00\", \"2020-04-22T10:40:00\", \"2020-04-22T10:45:00\", \"2020-04-22T10:50:00\", \"2020-04-22T10:55:00\", \"2020-04-22T11:00:00\", \"2020-04-22T11:05:00\", \"2020-04-22T11:10:00\", \"2020-04-22T11:15:00\", \"2020-04-22T11:20:00\", \"2020-04-22T11:25:00\", \"2020-04-22T11:30:00\", \"2020-04-22T11:35:00\", \"2020-04-22T11:40:00\", \"2020-04-22T11:45:00\", \"2020-04-22T11:50:00\", \"2020-04-22T11:55:00\", \"2020-04-22T12:00:00\", \"2020-04-22T12:05:00\", \"2020-04-22T12:10:00\", \"2020-04-22T12:15:00\", \"2020-04-22T12:20:00\", \"2020-04-22T12:25:00\", \"2020-04-22T12:30:00\"], \"y\": [80.0, 80.0, 80.0, 80.0, 80.0, 80.0, 80.0, 80.0, 80.0, 80.0, 80.0, 80.0, 80.0, 80.0, 80.0, 80.0, 80.0, 80.0, 80.0, 80.0, 80.0, 80.0, 80.0, 80.0, 80.0, 80.0, 80.0, 80.0, 80.0, 80.0, 80.0, 80.0, 80.0, 80.0, 80.0, 80.0, 80.0, 80.0, 80.0, 80.0, 80.0, 80.0, 80.0, 80.0, 80.0, 80.0, 80.0, 80.0, 80.0, 80.0, 80.0, 80.0, 80.0, 80.0, 80.0, 80.0, 80.0, 80.0, 80.0, 80.0, 80.0, 80.0, 80.0, 80.0, 80.0, 80.0, 80.0, 80.0, 80.0, 80.0, 80.0, 80.0, 80.0]}, {\"mode\": \"lines\", \"name\": \"upper bound\", \"type\": \"scatter\", \"x\": [\"2020-04-22T06:30:00\", \"2020-04-22T06:35:00\", \"2020-04-22T06:40:00\", \"2020-04-22T06:45:00\", \"2020-04-22T06:50:00\", \"2020-04-22T06:55:00\", \"2020-04-22T07:00:00\", \"2020-04-22T07:05:00\", \"2020-04-22T07:10:00\", \"2020-04-22T07:15:00\", \"2020-04-22T07:20:00\", \"2020-04-22T07:25:00\", \"2020-04-22T07:30:00\", \"2020-04-22T07:35:00\", \"2020-04-22T07:40:00\", \"2020-04-22T07:45:00\", \"2020-04-22T07:50:00\", \"2020-04-22T07:55:00\", \"2020-04-22T08:00:00\", \"2020-04-22T08:05:00\", \"2020-04-22T08:10:00\", \"2020-04-22T08:15:00\", \"2020-04-22T08:20:00\", \"2020-04-22T08:25:00\", \"2020-04-22T08:30:00\", \"2020-04-22T08:35:00\", \"2020-04-22T08:40:00\", \"2020-04-22T08:45:00\", \"2020-04-22T08:50:00\", \"2020-04-22T08:55:00\", \"2020-04-22T09:00:00\", \"2020-04-22T09:05:00\", \"2020-04-22T09:10:00\", \"2020-04-22T09:15:00\", \"2020-04-22T09:20:00\", \"2020-04-22T09:25:00\", \"2020-04-22T09:30:00\", \"2020-04-22T09:35:00\", \"2020-04-22T09:40:00\", \"2020-04-22T09:45:00\", \"2020-04-22T09:50:00\", \"2020-04-22T09:55:00\", \"2020-04-22T10:00:00\", \"2020-04-22T10:05:00\", \"2020-04-22T10:10:00\", \"2020-04-22T10:15:00\", \"2020-04-22T10:20:00\", \"2020-04-22T10:25:00\", \"2020-04-22T10:30:00\", \"2020-04-22T10:35:00\", \"2020-04-22T10:40:00\", \"2020-04-22T10:45:00\", \"2020-04-22T10:50:00\", \"2020-04-22T10:55:00\", \"2020-04-22T11:00:00\", \"2020-04-22T11:05:00\", \"2020-04-22T11:10:00\", \"2020-04-22T11:15:00\", \"2020-04-22T11:20:00\", \"2020-04-22T11:25:00\", \"2020-04-22T11:30:00\", \"2020-04-22T11:35:00\", \"2020-04-22T11:40:00\", \"2020-04-22T11:45:00\", \"2020-04-22T11:50:00\", \"2020-04-22T11:55:00\", \"2020-04-22T12:00:00\", \"2020-04-22T12:05:00\", \"2020-04-22T12:10:00\", \"2020-04-22T12:15:00\", \"2020-04-22T12:20:00\", \"2020-04-22T12:25:00\", \"2020-04-22T12:30:00\"], \"y\": [140.0, 140.0, 140.0, 140.0, 140.0, 140.0, 140.0, 140.0, 140.0, 140.0, 140.0, 140.0, 140.0, 140.0, 140.0, 140.0, 140.0, 140.0, 140.0, 140.0, 140.0, 140.0, 140.0, 140.0, 140.0, 140.0, 140.0, 140.0, 140.0, 140.0, 140.0, 140.0, 140.0, 140.0, 140.0, 140.0, 140.0, 140.0, 140.0, 140.0, 140.0, 140.0, 140.0, 140.0, 140.0, 140.0, 140.0, 140.0, 140.0, 140.0, 140.0, 140.0, 140.0, 140.0, 140.0, 140.0, 140.0, 140.0, 140.0, 140.0, 140.0, 140.0, 140.0, 140.0, 140.0, 140.0, 140.0, 140.0, 140.0, 140.0, 140.0, 140.0, 140.0]}],                        {\"template\": {\"data\": {\"bar\": [{\"error_x\": {\"color\": \"#2a3f5f\"}, \"error_y\": {\"color\": \"#2a3f5f\"}, \"marker\": {\"line\": {\"color\": \"#E5ECF6\", \"width\": 0.5}}, \"type\": \"bar\"}], \"barpolar\": [{\"marker\": {\"line\": {\"color\": \"#E5ECF6\", \"width\": 0.5}}, \"type\": \"barpolar\"}], \"carpet\": [{\"aaxis\": {\"endlinecolor\": \"#2a3f5f\", \"gridcolor\": \"white\", \"linecolor\": \"white\", \"minorgridcolor\": \"white\", \"startlinecolor\": \"#2a3f5f\"}, \"baxis\": {\"endlinecolor\": \"#2a3f5f\", \"gridcolor\": \"white\", \"linecolor\": \"white\", \"minorgridcolor\": \"white\", \"startlinecolor\": \"#2a3f5f\"}, \"type\": \"carpet\"}], \"choropleth\": [{\"colorbar\": {\"outlinewidth\": 0, \"ticks\": \"\"}, \"type\": \"choropleth\"}], \"contour\": [{\"colorbar\": {\"outlinewidth\": 0, \"ticks\": \"\"}, \"colorscale\": [[0.0, \"#0d0887\"], [0.1111111111111111, \"#46039f\"], [0.2222222222222222, \"#7201a8\"], [0.3333333333333333, \"#9c179e\"], [0.4444444444444444, \"#bd3786\"], [0.5555555555555556, \"#d8576b\"], [0.6666666666666666, \"#ed7953\"], [0.7777777777777778, \"#fb9f3a\"], [0.8888888888888888, \"#fdca26\"], [1.0, \"#f0f921\"]], \"type\": \"contour\"}], \"contourcarpet\": [{\"colorbar\": {\"outlinewidth\": 0, \"ticks\": \"\"}, \"type\": \"contourcarpet\"}], \"heatmap\": [{\"colorbar\": {\"outlinewidth\": 0, \"ticks\": \"\"}, \"colorscale\": [[0.0, \"#0d0887\"], [0.1111111111111111, \"#46039f\"], [0.2222222222222222, \"#7201a8\"], [0.3333333333333333, \"#9c179e\"], [0.4444444444444444, \"#bd3786\"], [0.5555555555555556, \"#d8576b\"], [0.6666666666666666, \"#ed7953\"], [0.7777777777777778, \"#fb9f3a\"], [0.8888888888888888, \"#fdca26\"], [1.0, \"#f0f921\"]], \"type\": \"heatmap\"}], \"heatmapgl\": [{\"colorbar\": {\"outlinewidth\": 0, \"ticks\": \"\"}, \"colorscale\": [[0.0, \"#0d0887\"], [0.1111111111111111, \"#46039f\"], [0.2222222222222222, \"#7201a8\"], [0.3333333333333333, \"#9c179e\"], [0.4444444444444444, \"#bd3786\"], [0.5555555555555556, \"#d8576b\"], [0.6666666666666666, \"#ed7953\"], [0.7777777777777778, \"#fb9f3a\"], [0.8888888888888888, \"#fdca26\"], [1.0, \"#f0f921\"]], \"type\": \"heatmapgl\"}], \"histogram\": [{\"marker\": {\"colorbar\": {\"outlinewidth\": 0, \"ticks\": \"\"}}, \"type\": \"histogram\"}], \"histogram2d\": [{\"colorbar\": {\"outlinewidth\": 0, \"ticks\": \"\"}, \"colorscale\": [[0.0, \"#0d0887\"], [0.1111111111111111, \"#46039f\"], [0.2222222222222222, \"#7201a8\"], [0.3333333333333333, \"#9c179e\"], [0.4444444444444444, \"#bd3786\"], [0.5555555555555556, \"#d8576b\"], [0.6666666666666666, \"#ed7953\"], [0.7777777777777778, \"#fb9f3a\"], [0.8888888888888888, \"#fdca26\"], [1.0, \"#f0f921\"]], \"type\": \"histogram2d\"}], \"histogram2dcontour\": [{\"colorbar\": {\"outlinewidth\": 0, \"ticks\": \"\"}, \"colorscale\": [[0.0, \"#0d0887\"], [0.1111111111111111, \"#46039f\"], [0.2222222222222222, \"#7201a8\"], [0.3333333333333333, \"#9c179e\"], [0.4444444444444444, \"#bd3786\"], [0.5555555555555556, \"#d8576b\"], [0.6666666666666666, \"#ed7953\"], [0.7777777777777778, \"#fb9f3a\"], [0.8888888888888888, \"#fdca26\"], [1.0, \"#f0f921\"]], \"type\": \"histogram2dcontour\"}], \"mesh3d\": [{\"colorbar\": {\"outlinewidth\": 0, \"ticks\": \"\"}, \"type\": \"mesh3d\"}], \"parcoords\": [{\"line\": {\"colorbar\": {\"outlinewidth\": 0, \"ticks\": \"\"}}, \"type\": \"parcoords\"}], \"pie\": [{\"automargin\": true, \"type\": \"pie\"}], \"scatter\": [{\"marker\": {\"colorbar\": {\"outlinewidth\": 0, \"ticks\": \"\"}}, \"type\": \"scatter\"}], \"scatter3d\": [{\"line\": {\"colorbar\": {\"outlinewidth\": 0, \"ticks\": \"\"}}, \"marker\": {\"colorbar\": {\"outlinewidth\": 0, \"ticks\": \"\"}}, \"type\": \"scatter3d\"}], \"scattercarpet\": [{\"marker\": {\"colorbar\": {\"outlinewidth\": 0, \"ticks\": \"\"}}, \"type\": \"scattercarpet\"}], \"scattergeo\": [{\"marker\": {\"colorbar\": {\"outlinewidth\": 0, \"ticks\": \"\"}}, \"type\": \"scattergeo\"}], \"scattergl\": [{\"marker\": {\"colorbar\": {\"outlinewidth\": 0, \"ticks\": \"\"}}, \"type\": \"scattergl\"}], \"scattermapbox\": [{\"marker\": {\"colorbar\": {\"outlinewidth\": 0, \"ticks\": \"\"}}, \"type\": \"scattermapbox\"}], \"scatterpolar\": [{\"marker\": {\"colorbar\": {\"outlinewidth\": 0, \"ticks\": \"\"}}, \"type\": \"scatterpolar\"}], \"scatterpolargl\": [{\"marker\": {\"colorbar\": {\"outlinewidth\": 0, \"ticks\": \"\"}}, \"type\": \"scatterpolargl\"}], \"scatterternary\": [{\"marker\": {\"colorbar\": {\"outlinewidth\": 0, \"ticks\": \"\"}}, \"type\": \"scatterternary\"}], \"surface\": [{\"colorbar\": {\"outlinewidth\": 0, \"ticks\": \"\"}, \"colorscale\": [[0.0, \"#0d0887\"], [0.1111111111111111, \"#46039f\"], [0.2222222222222222, \"#7201a8\"], [0.3333333333333333, \"#9c179e\"], [0.4444444444444444, \"#bd3786\"], [0.5555555555555556, \"#d8576b\"], [0.6666666666666666, \"#ed7953\"], [0.7777777777777778, \"#fb9f3a\"], [0.8888888888888888, \"#fdca26\"], [1.0, \"#f0f921\"]], \"type\": \"surface\"}], \"table\": [{\"cells\": {\"fill\": {\"color\": \"#EBF0F8\"}, \"line\": {\"color\": \"white\"}}, \"header\": {\"fill\": {\"color\": \"#C8D4E3\"}, \"line\": {\"color\": \"white\"}}, \"type\": \"table\"}]}, \"layout\": {\"annotationdefaults\": {\"arrowcolor\": \"#2a3f5f\", \"arrowhead\": 0, \"arrowwidth\": 1}, \"coloraxis\": {\"colorbar\": {\"outlinewidth\": 0, \"ticks\": \"\"}}, \"colorscale\": {\"diverging\": [[0, \"#8e0152\"], [0.1, \"#c51b7d\"], [0.2, \"#de77ae\"], [0.3, \"#f1b6da\"], [0.4, \"#fde0ef\"], [0.5, \"#f7f7f7\"], [0.6, \"#e6f5d0\"], [0.7, \"#b8e186\"], [0.8, \"#7fbc41\"], [0.9, \"#4d9221\"], [1, \"#276419\"]], \"sequential\": [[0.0, \"#0d0887\"], [0.1111111111111111, \"#46039f\"], [0.2222222222222222, \"#7201a8\"], [0.3333333333333333, \"#9c179e\"], [0.4444444444444444, \"#bd3786\"], [0.5555555555555556, \"#d8576b\"], [0.6666666666666666, \"#ed7953\"], [0.7777777777777778, \"#fb9f3a\"], [0.8888888888888888, \"#fdca26\"], [1.0, \"#f0f921\"]], \"sequentialminus\": [[0.0, \"#0d0887\"], [0.1111111111111111, \"#46039f\"], [0.2222222222222222, \"#7201a8\"], [0.3333333333333333, \"#9c179e\"], [0.4444444444444444, \"#bd3786\"], [0.5555555555555556, \"#d8576b\"], [0.6666666666666666, \"#ed7953\"], [0.7777777777777778, \"#fb9f3a\"], [0.8888888888888888, \"#fdca26\"], [1.0, \"#f0f921\"]]}, \"colorway\": [\"#636efa\", \"#EF553B\", \"#00cc96\", \"#ab63fa\", \"#FFA15A\", \"#19d3f3\", \"#FF6692\", \"#B6E880\", \"#FF97FF\", \"#FECB52\"], \"font\": {\"color\": \"#2a3f5f\"}, \"geo\": {\"bgcolor\": \"white\", \"lakecolor\": \"white\", \"landcolor\": \"#E5ECF6\", \"showlakes\": true, \"showland\": true, \"subunitcolor\": \"white\"}, \"hoverlabel\": {\"align\": \"left\"}, \"hovermode\": \"closest\", \"mapbox\": {\"style\": \"light\"}, \"paper_bgcolor\": \"white\", \"plot_bgcolor\": \"#E5ECF6\", \"polar\": {\"angularaxis\": {\"gridcolor\": \"white\", \"linecolor\": \"white\", \"ticks\": \"\"}, \"bgcolor\": \"#E5ECF6\", \"radialaxis\": {\"gridcolor\": \"white\", \"linecolor\": \"white\", \"ticks\": \"\"}}, \"scene\": {\"xaxis\": {\"backgroundcolor\": \"#E5ECF6\", \"gridcolor\": \"white\", \"gridwidth\": 2, \"linecolor\": \"white\", \"showbackground\": true, \"ticks\": \"\", \"zerolinecolor\": \"white\"}, \"yaxis\": {\"backgroundcolor\": \"#E5ECF6\", \"gridcolor\": \"white\", \"gridwidth\": 2, \"linecolor\": \"white\", \"showbackground\": true, \"ticks\": \"\", \"zerolinecolor\": \"white\"}, \"zaxis\": {\"backgroundcolor\": \"#E5ECF6\", \"gridcolor\": \"white\", \"gridwidth\": 2, \"linecolor\": \"white\", \"showbackground\": true, \"ticks\": \"\", \"zerolinecolor\": \"white\"}}, \"shapedefaults\": {\"line\": {\"color\": \"#2a3f5f\"}}, \"ternary\": {\"aaxis\": {\"gridcolor\": \"white\", \"linecolor\": \"white\", \"ticks\": \"\"}, \"baxis\": {\"gridcolor\": \"white\", \"linecolor\": \"white\", \"ticks\": \"\"}, \"bgcolor\": \"#E5ECF6\", \"caxis\": {\"gridcolor\": \"white\", \"linecolor\": \"white\", \"ticks\": \"\"}}, \"title\": {\"x\": 0.05}, \"xaxis\": {\"automargin\": true, \"gridcolor\": \"white\", \"linecolor\": \"white\", \"ticks\": \"\", \"title\": {\"standoff\": 15}, \"zerolinecolor\": \"white\", \"zerolinewidth\": 2}, \"yaxis\": {\"automargin\": true, \"gridcolor\": \"white\", \"linecolor\": \"white\", \"ticks\": \"\", \"title\": {\"standoff\": 15}, \"zerolinecolor\": \"white\", \"zerolinewidth\": 2}}}, \"xaxis\": {\"linecolor\": \"black\", \"linewidth\": 2, \"showline\": true, \"title\": {\"font\": {\"size\": 18}, \"text\": \"Time\"}}, \"yaxis\": {\"linecolor\": \"black\", \"linewidth\": 2, \"showline\": true, \"title\": {\"font\": {\"size\": 18}, \"text\": \"Blood Glucose\"}}},                        {\"responsive\": true}                    ).then(function(){\n",
       "                            \n",
       "var gd = document.getElementById('a9af4f75-0260-4bf3-86ce-f74d56916113');\n",
       "var x = new MutationObserver(function (mutations, observer) {{\n",
       "        var display = window.getComputedStyle(gd).display;\n",
       "        if (!display || display === 'none') {{\n",
       "            console.log([gd, 'removed!']);\n",
       "            Plotly.purge(gd);\n",
       "            observer.disconnect();\n",
       "        }}\n",
       "}});\n",
       "\n",
       "// Listen for the removal of the full notebook cells\n",
       "var notebookContainer = gd.closest('#notebook-container');\n",
       "if (notebookContainer) {{\n",
       "    x.observe(notebookContainer, {childList: true});\n",
       "}}\n",
       "\n",
       "// Listen for the clearing of the current output cell\n",
       "var outputEl = gd.closest('.output');\n",
       "if (outputEl) {{\n",
       "    x.observe(outputEl, {childList: true});\n",
       "}}\n",
       "\n",
       "                        })                };                });            </script>        </div>"
      ]
     },
     "metadata": {},
     "output_type": "display_data"
    }
   ],
   "source": [
    "print('\\n\\nCurrent time is {}'.format(current_time))\n",
    "print('Give yourself a bolus of ' + str(optimal['bolus amount']) +\n",
    "      ' units at ' + str(optimal['bolus time']))\n",
    "fig = core.plot_forecast(patient.Xtest,\n",
    "                             optimal['ypred'],\n",
    "                             return_flag=True)\n",
    "fig = core.plot_optimal_boundaries(patient, fig)\n",
    "fig.show()"
   ]
  },
  {
   "cell_type": "code",
   "execution_count": 11,
   "metadata": {},
   "outputs": [
    {
     "data": {
      "text/plain": [
       "8"
      ]
     },
     "execution_count": 11,
     "metadata": {},
     "output_type": "execute_result"
    }
   ],
   "source": [
    "vm.lag_order"
   ]
  },
  {
   "cell_type": "code",
   "execution_count": 30,
   "metadata": {},
   "outputs": [
    {
     "data": {
      "text/plain": [
       "20"
      ]
     },
     "execution_count": 30,
     "metadata": {},
     "output_type": "execute_result"
    }
   ],
   "source": [
    "optimal['grid_error'].index(min(optimal['grid_error']))"
   ]
  },
  {
   "cell_type": "code",
   "execution_count": 32,
   "metadata": {},
   "outputs": [
    {
     "data": {
      "text/plain": [
       "(4, Timestamp('2020-04-22 10:40:00', freq='5T'))"
      ]
     },
     "execution_count": 32,
     "metadata": {},
     "output_type": "execute_result"
    }
   ],
   "source": [
    "optimal['grid'][20]"
   ]
  },
  {
   "cell_type": "code",
   "execution_count": 33,
   "metadata": {},
   "outputs": [
    {
     "data": {
      "text/plain": [
       "[array([25690.89654349]),\n",
       " array([25690.89654349]),\n",
       " array([25690.89654349]),\n",
       " array([25690.89654349]),\n",
       " array([25690.89654349]),\n",
       " array([25589.46152906]),\n",
       " array([25688.3195965]),\n",
       " array([25801.67951398]),\n",
       " array([25932.25249835]),\n",
       " array([26078.07178199]),\n",
       " array([25518.13778698]),\n",
       " array([25715.58392054]),\n",
       " array([25941.99057369]),\n",
       " array([26202.77328643]),\n",
       " array([26493.99048556]),\n",
       " array([25476.92531724]),\n",
       " array([25772.68951558]),\n",
       " array([26111.82972263]),\n",
       " array([26502.45890773]),\n",
       " array([26938.65265418]),\n",
       " array([25465.82411985]),\n",
       " array([25859.63638164]),\n",
       " array([26311.19696079]),\n",
       " array([26831.30936224]),\n",
       " array([27412.05828788]),\n",
       " array([25484.8341948]),\n",
       " array([25976.42451872]),\n",
       " array([26540.09228816]),\n",
       " array([27189.32464997]),\n",
       " array([27914.20738663]),\n",
       " array([25533.95554209]),\n",
       " array([26123.05392681]),\n",
       " array([26798.51570476]),\n",
       " array([27576.50477092]),\n",
       " array([28445.09995045]),\n",
       " array([25613.18816173]),\n",
       " array([26299.52460592]),\n",
       " array([27086.46721058]),\n",
       " array([27992.84972508]),\n",
       " array([29004.73597933]),\n",
       " array([25722.53205371]),\n",
       " array([26505.83655604]),\n",
       " array([27403.94680562]),\n",
       " array([28438.35951246]),\n",
       " array([29593.11547328]),\n",
       " array([25861.98721803]),\n",
       " array([26741.98977718]),\n",
       " array([27750.95448989]),\n",
       " array([28913.03413306]),\n",
       " array([30210.23843229]),\n",
       " array([26031.5536547]),\n",
       " array([27007.98426933]),\n",
       " array([28127.49026337]),\n",
       " array([29416.87358687]),\n",
       " array([30856.10485636]),\n",
       " array([26231.23136371]),\n",
       " array([27303.8200325]),\n",
       " array([28533.55412608]),\n",
       " array([29949.8778739]),\n",
       " array([31530.7147455]),\n",
       " array([26461.02034507]),\n",
       " array([27629.49706668]),\n",
       " array([28969.146078]),\n",
       " array([30512.04699415]),\n",
       " array([32234.0680997]),\n",
       " array([26720.92059877]),\n",
       " array([27985.01537188]),\n",
       " array([29434.26611915]),\n",
       " array([31103.38094761]),\n",
       " array([32966.16491896]),\n",
       " array([27010.93212481]),\n",
       " array([28370.3749481]),\n",
       " array([29928.91424952]),\n",
       " array([31723.87973429]),\n",
       " array([33727.00520328]),\n",
       " array([27331.0549232]),\n",
       " array([28785.57579532]),\n",
       " array([30453.09046911]),\n",
       " array([32373.54335419]),\n",
       " array([34516.58895267]),\n",
       " array([27681.28899393]),\n",
       " array([29230.61791357]),\n",
       " array([31006.79477792]),\n",
       " array([33052.3718073]),\n",
       " array([35334.91616713]),\n",
       " array([28061.634337]),\n",
       " array([29705.50130283]),\n",
       " array([31590.02717595]),\n",
       " array([33760.36509363]),\n",
       " array([36181.98684664]),\n",
       " array([28472.09095242]),\n",
       " array([30210.2259631]),\n",
       " array([32202.78766321]),\n",
       " array([34497.52321318]),\n",
       " array([37057.80099122]),\n",
       " array([28912.65884018]),\n",
       " array([30744.79189439]),\n",
       " array([32845.07623968]),\n",
       " array([35263.84616594]),\n",
       " array([37962.35860087]),\n",
       " array([29383.33800029]),\n",
       " array([31309.1990967]),\n",
       " array([33516.89290538]),\n",
       " array([36059.33395192]),\n",
       " array([38895.65967557]),\n",
       " array([29884.12843274]),\n",
       " array([31903.44757002]),\n",
       " array([34218.2376603]),\n",
       " array([36883.98657112]),\n",
       " array([39857.70421534]),\n",
       " array([30415.03013753]),\n",
       " array([32527.53731436]),\n",
       " array([34949.11050444]),\n",
       " array([37737.80402353]),\n",
       " array([40848.49222018]),\n",
       " array([30976.04311467]),\n",
       " array([33181.46832971]),\n",
       " array([35709.5114378]),\n",
       " array([38620.78630916]),\n",
       " array([41868.02369007]),\n",
       " array([31567.16736415]),\n",
       " array([33865.24061607]),\n",
       " array([36499.44046038]),\n",
       " array([39532.93342801]),\n",
       " array([42916.29862503]),\n",
       " array([32188.40288597]),\n",
       " array([34578.85417346]),\n",
       " array([37318.89757219]),\n",
       " array([40474.24538007]),\n",
       " array([43993.31702506]),\n",
       " array([32839.74968014]),\n",
       " array([35322.30900185]),\n",
       " array([38167.88277321]),\n",
       " array([41444.72216535]),\n",
       " array([45099.07889014]),\n",
       " array([33521.20774665]),\n",
       " array([36095.60510127]),\n",
       " array([39046.39606346]),\n",
       " array([42444.36378385]),\n",
       " array([46233.5842203]),\n",
       " array([34232.77708551]),\n",
       " array([36898.74247169]),\n",
       " array([39954.43744293]),\n",
       " array([43473.17023556]),\n",
       " array([47396.83301551]),\n",
       " array([34974.45769671]),\n",
       " array([37731.72111314]),\n",
       " array([40892.00691162]),\n",
       " array([44531.14152049]),\n",
       " array([48588.82527579]),\n",
       " array([35746.24958025]),\n",
       " array([38594.54102559]),\n",
       " array([41859.10446952]),\n",
       " array([45618.27763864]),\n",
       " array([49809.56100113]),\n",
       " array([36548.15273614]),\n",
       " array([39487.20220907]),\n",
       " array([42855.73011666]),\n",
       " array([46734.57859]),\n",
       " array([51059.04019153]),\n",
       " array([37380.16716437]),\n",
       " array([40409.70466356]),\n",
       " array([43881.88385301]),\n",
       " array([47880.04437458]),\n",
       " array([52337.262847]),\n",
       " array([38242.29286495]),\n",
       " array([41362.04838906]),\n",
       " array([44937.56567858]),\n",
       " array([49054.67499238]),\n",
       " array([53644.22896753]),\n",
       " array([39134.52983786]),\n",
       " array([42344.23338558]),\n",
       " array([46022.77559338]),\n",
       " array([50258.47044339]),\n",
       " array([54979.93855312]),\n",
       " array([40056.87808313]),\n",
       " array([43356.25965311]),\n",
       " array([47137.5135974]),\n",
       " array([51491.43072762]),\n",
       " array([56344.39160378]),\n",
       " array([41009.33760073]),\n",
       " array([44398.12719166]),\n",
       " array([48281.77969063]),\n",
       " array([52753.55584507]),\n",
       " array([57737.5881195]),\n",
       " array([41991.90839068]),\n",
       " array([45469.83600123]),\n",
       " array([49455.57387309]),\n",
       " array([54044.84579573]),\n",
       " array([59159.52810029]),\n",
       " array([43004.59045298]),\n",
       " array([46571.38608181]),\n",
       " array([50658.89614477]),\n",
       " array([55365.30057961]),\n",
       " array([60610.21154614]),\n",
       " array([44047.38378761]),\n",
       " array([47702.77743341]),\n",
       " array([51891.74650568]),\n",
       " array([56714.92019671]),\n",
       " array([62089.63845705]),\n",
       " array([45120.28839459]),\n",
       " array([48864.01005602]),\n",
       " array([53154.1249558]),\n",
       " array([58093.70464702]),\n",
       " array([63597.80883302]),\n",
       " array([46223.30427392]),\n",
       " array([50055.08394964]),\n",
       " array([54446.03149514]),\n",
       " array([59501.65393055]),\n",
       " array([65134.72267406]),\n",
       " array([47356.43142559]),\n",
       " array([51275.99911428]),\n",
       " array([55767.46612371]),\n",
       " array([60938.7680473]),\n",
       " array([66700.37998016]),\n",
       " array([48519.6698496]),\n",
       " array([52526.75554994]),\n",
       " array([57118.4288415]),\n",
       " array([62405.04699726]),\n",
       " array([68294.78075133]),\n",
       " array([49713.01954596]),\n",
       " array([53807.35325661]),\n",
       " array([58498.91964851]),\n",
       " array([63900.49078044]),\n",
       " array([69917.92498756])]"
      ]
     },
     "execution_count": 33,
     "metadata": {},
     "output_type": "execute_result"
    }
   ],
   "source": [
    "optimal['grid_error']"
   ]
  },
  {
   "cell_type": "code",
   "execution_count": null,
   "metadata": {},
   "outputs": [],
   "source": []
  },
  {
   "cell_type": "code",
   "execution_count": null,
   "metadata": {},
   "outputs": [],
   "source": []
  },
  {
   "cell_type": "code",
   "execution_count": null,
   "metadata": {},
   "outputs": [],
   "source": []
  },
  {
   "cell_type": "code",
   "execution_count": null,
   "metadata": {},
   "outputs": [],
   "source": []
  },
  {
   "cell_type": "code",
   "execution_count": null,
   "metadata": {},
   "outputs": [],
   "source": []
  }
 ],
 "metadata": {
  "kernelspec": {
   "display_name": "Python 3",
   "language": "python",
   "name": "python3"
  },
  "language_info": {
   "codemirror_mode": {
    "name": "ipython",
    "version": 3
   },
   "file_extension": ".py",
   "mimetype": "text/x-python",
   "name": "python",
   "nbconvert_exporter": "python",
   "pygments_lexer": "ipython3",
   "version": "3.7.9"
  }
 },
 "nbformat": 4,
 "nbformat_minor": 4
}
