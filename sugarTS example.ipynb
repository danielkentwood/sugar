{
 "cells": [
  {
   "cell_type": "markdown",
   "metadata": {},
   "source": [
    "# SugarTS example\n",
    "This is quick tutorial on how to engage with the sugarTS package."
   ]
  },
  {
   "cell_type": "code",
   "execution_count": 1,
   "metadata": {},
   "outputs": [
    {
     "name": "stderr",
     "output_type": "stream",
     "text": [
      "/Users/arcuate/anaconda3/envs/3p8/lib/python3.8/site-packages/sklearn/utils/deprecation.py:144: FutureWarning: The sklearn.metrics.regression module is  deprecated in version 0.22 and will be removed in version 0.24. The corresponding classes / functions should instead be imported from sklearn.metrics. Anything that cannot be imported from sklearn.metrics is now part of the private API.\n",
      "  warnings.warn(message, FutureWarning)\n"
     ]
    }
   ],
   "source": [
    "import matplotlib.pyplot as plt\n",
    "%matplotlib inline\n",
    "from datetime import timedelta\n",
    "\n",
    "import pandas as pd\n",
    "import numpy as np\n",
    "import plotly.graph_objects as go\n",
    "\n",
    "from sugarTS.model import Patient"
   ]
  },
  {
   "cell_type": "code",
   "execution_count": 26,
   "metadata": {},
   "outputs": [],
   "source": [
    "# create a patient object\n",
    "patient = Patient()"
   ]
  },
  {
   "cell_type": "code",
   "execution_count": 27,
   "metadata": {},
   "outputs": [],
   "source": [
    "# fit the model to the patient's data\n",
    "patient.fit_model()"
   ]
  },
  {
   "cell_type": "code",
   "execution_count": 34,
   "metadata": {},
   "outputs": [
    {
     "name": "stdout",
     "output_type": "stream",
     "text": [
      "Current time is 2020-04-22 10:35:00\n",
      "Give yourself a bolus of 27 units at 2020-04-22 10:40:00\n"
     ]
    }
   ],
   "source": [
    "# decide on meal (how many carbs? when?)\n",
    "current_time = patient.ytest.index[-1]\n",
    "carb_time = current_time + timedelta(minutes=30)\n",
    "carbs = 40\n",
    "\n",
    "# calculate the optimal bolus\n",
    "optimal = patient.find_optimal_bolus(carbs, carb_time)\n",
    "print('Current time is {}'.format(current_time))\n",
    "print('Give yourself a bolus of ' + str(optimal['bolus amount']) +\n",
    "      ' units at ' + str(optimal['bolus time']))"
   ]
  },
  {
   "cell_type": "code",
   "execution_count": 40,
   "metadata": {},
   "outputs": [],
   "source": [
    "# plot the model forecast for the optimal bolus\n",
    "bolus = optimal['bolus amount']\n",
    "bolus_t = optimal['bolus time']\n",
    "x_future = patient.build_x_future(carbs, carb_time, bolus, bolus_t)\n",
    "y_ind = pd.date_range(start=x_future.index[0], \n",
    "                     end=x_future.index[-1]+timedelta(minutes=5),\n",
    "                     freq='5T')\n",
    "ypred = pd.Series(patient.forecast(x_future), index=y_ind)"
   ]
  },
  {
   "cell_type": "code",
   "execution_count": 42,
   "metadata": {},
   "outputs": [],
   "source": []
  },
  {
   "cell_type": "code",
   "execution_count": 46,
   "metadata": {},
   "outputs": [
    {
     "data": {
      "application/vnd.plotly.v1+json": {
       "config": {
        "plotlyServerURL": "https://plot.ly"
       },
       "data": [
        {
         "mode": "lines",
         "name": "prediction",
         "type": "scatter",
         "x": [
          "2020-04-22T10:40:00",
          "2020-04-22T10:45:00",
          "2020-04-22T10:50:00",
          "2020-04-22T10:55:00",
          "2020-04-22T11:00:00",
          "2020-04-22T11:05:00",
          "2020-04-22T11:10:00",
          "2020-04-22T11:15:00",
          "2020-04-22T11:20:00",
          "2020-04-22T11:25:00",
          "2020-04-22T11:30:00",
          "2020-04-22T11:35:00",
          "2020-04-22T11:40:00",
          "2020-04-22T11:45:00",
          "2020-04-22T11:50:00",
          "2020-04-22T11:55:00",
          "2020-04-22T12:00:00",
          "2020-04-22T12:05:00",
          "2020-04-22T12:10:00"
         ],
         "y": [
          78.28817323488825,
          77.51313704368071,
          77.57915819138289,
          78.5302945951489,
          80.78223561739478,
          84.43712577624865,
          90.71742230065605,
          100.3206534886948,
          109.42041160720302,
          111.64440098179806,
          105.63001341440575,
          94.40203834844098,
          76.86721659838256,
          58.40641280672249,
          41.298239765586025,
          23.271197736485806,
          6.364993185449213,
          -3.9068761239115872,
          -9.582334181880778
         ]
        },
        {
         "mode": "lines",
         "name": "lower bound",
         "type": "scatter",
         "x": [
          "2020-04-22T10:40:00",
          "2020-04-22T10:45:00",
          "2020-04-22T10:50:00",
          "2020-04-22T10:55:00",
          "2020-04-22T11:00:00",
          "2020-04-22T11:05:00",
          "2020-04-22T11:10:00",
          "2020-04-22T11:15:00",
          "2020-04-22T11:20:00",
          "2020-04-22T11:25:00",
          "2020-04-22T11:30:00",
          "2020-04-22T11:35:00",
          "2020-04-22T11:40:00",
          "2020-04-22T11:45:00",
          "2020-04-22T11:50:00",
          "2020-04-22T11:55:00",
          "2020-04-22T12:00:00",
          "2020-04-22T12:05:00",
          "2020-04-22T12:10:00"
         ],
         "y": [
          80,
          80,
          80,
          80,
          80,
          80,
          80,
          80,
          80,
          80,
          80,
          80,
          80,
          80,
          80,
          80,
          80,
          80,
          80
         ]
        },
        {
         "mode": "lines",
         "name": "upper bound",
         "type": "scatter",
         "x": [
          "2020-04-22T10:40:00",
          "2020-04-22T10:45:00",
          "2020-04-22T10:50:00",
          "2020-04-22T10:55:00",
          "2020-04-22T11:00:00",
          "2020-04-22T11:05:00",
          "2020-04-22T11:10:00",
          "2020-04-22T11:15:00",
          "2020-04-22T11:20:00",
          "2020-04-22T11:25:00",
          "2020-04-22T11:30:00",
          "2020-04-22T11:35:00",
          "2020-04-22T11:40:00",
          "2020-04-22T11:45:00",
          "2020-04-22T11:50:00",
          "2020-04-22T11:55:00",
          "2020-04-22T12:00:00",
          "2020-04-22T12:05:00",
          "2020-04-22T12:10:00"
         ],
         "y": [
          140,
          140,
          140,
          140,
          140,
          140,
          140,
          140,
          140,
          140,
          140,
          140,
          140,
          140,
          140,
          140,
          140,
          140,
          140
         ]
        }
       ],
       "layout": {
        "autosize": true,
        "template": {
         "data": {
          "bar": [
           {
            "error_x": {
             "color": "#2a3f5f"
            },
            "error_y": {
             "color": "#2a3f5f"
            },
            "marker": {
             "line": {
              "color": "#E5ECF6",
              "width": 0.5
             }
            },
            "type": "bar"
           }
          ],
          "barpolar": [
           {
            "marker": {
             "line": {
              "color": "#E5ECF6",
              "width": 0.5
             }
            },
            "type": "barpolar"
           }
          ],
          "carpet": [
           {
            "aaxis": {
             "endlinecolor": "#2a3f5f",
             "gridcolor": "white",
             "linecolor": "white",
             "minorgridcolor": "white",
             "startlinecolor": "#2a3f5f"
            },
            "baxis": {
             "endlinecolor": "#2a3f5f",
             "gridcolor": "white",
             "linecolor": "white",
             "minorgridcolor": "white",
             "startlinecolor": "#2a3f5f"
            },
            "type": "carpet"
           }
          ],
          "choropleth": [
           {
            "colorbar": {
             "outlinewidth": 0,
             "ticks": ""
            },
            "type": "choropleth"
           }
          ],
          "contour": [
           {
            "colorbar": {
             "outlinewidth": 0,
             "ticks": ""
            },
            "colorscale": [
             [
              0,
              "#0d0887"
             ],
             [
              0.1111111111111111,
              "#46039f"
             ],
             [
              0.2222222222222222,
              "#7201a8"
             ],
             [
              0.3333333333333333,
              "#9c179e"
             ],
             [
              0.4444444444444444,
              "#bd3786"
             ],
             [
              0.5555555555555556,
              "#d8576b"
             ],
             [
              0.6666666666666666,
              "#ed7953"
             ],
             [
              0.7777777777777778,
              "#fb9f3a"
             ],
             [
              0.8888888888888888,
              "#fdca26"
             ],
             [
              1,
              "#f0f921"
             ]
            ],
            "type": "contour"
           }
          ],
          "contourcarpet": [
           {
            "colorbar": {
             "outlinewidth": 0,
             "ticks": ""
            },
            "type": "contourcarpet"
           }
          ],
          "heatmap": [
           {
            "colorbar": {
             "outlinewidth": 0,
             "ticks": ""
            },
            "colorscale": [
             [
              0,
              "#0d0887"
             ],
             [
              0.1111111111111111,
              "#46039f"
             ],
             [
              0.2222222222222222,
              "#7201a8"
             ],
             [
              0.3333333333333333,
              "#9c179e"
             ],
             [
              0.4444444444444444,
              "#bd3786"
             ],
             [
              0.5555555555555556,
              "#d8576b"
             ],
             [
              0.6666666666666666,
              "#ed7953"
             ],
             [
              0.7777777777777778,
              "#fb9f3a"
             ],
             [
              0.8888888888888888,
              "#fdca26"
             ],
             [
              1,
              "#f0f921"
             ]
            ],
            "type": "heatmap"
           }
          ],
          "heatmapgl": [
           {
            "colorbar": {
             "outlinewidth": 0,
             "ticks": ""
            },
            "colorscale": [
             [
              0,
              "#0d0887"
             ],
             [
              0.1111111111111111,
              "#46039f"
             ],
             [
              0.2222222222222222,
              "#7201a8"
             ],
             [
              0.3333333333333333,
              "#9c179e"
             ],
             [
              0.4444444444444444,
              "#bd3786"
             ],
             [
              0.5555555555555556,
              "#d8576b"
             ],
             [
              0.6666666666666666,
              "#ed7953"
             ],
             [
              0.7777777777777778,
              "#fb9f3a"
             ],
             [
              0.8888888888888888,
              "#fdca26"
             ],
             [
              1,
              "#f0f921"
             ]
            ],
            "type": "heatmapgl"
           }
          ],
          "histogram": [
           {
            "marker": {
             "colorbar": {
              "outlinewidth": 0,
              "ticks": ""
             }
            },
            "type": "histogram"
           }
          ],
          "histogram2d": [
           {
            "colorbar": {
             "outlinewidth": 0,
             "ticks": ""
            },
            "colorscale": [
             [
              0,
              "#0d0887"
             ],
             [
              0.1111111111111111,
              "#46039f"
             ],
             [
              0.2222222222222222,
              "#7201a8"
             ],
             [
              0.3333333333333333,
              "#9c179e"
             ],
             [
              0.4444444444444444,
              "#bd3786"
             ],
             [
              0.5555555555555556,
              "#d8576b"
             ],
             [
              0.6666666666666666,
              "#ed7953"
             ],
             [
              0.7777777777777778,
              "#fb9f3a"
             ],
             [
              0.8888888888888888,
              "#fdca26"
             ],
             [
              1,
              "#f0f921"
             ]
            ],
            "type": "histogram2d"
           }
          ],
          "histogram2dcontour": [
           {
            "colorbar": {
             "outlinewidth": 0,
             "ticks": ""
            },
            "colorscale": [
             [
              0,
              "#0d0887"
             ],
             [
              0.1111111111111111,
              "#46039f"
             ],
             [
              0.2222222222222222,
              "#7201a8"
             ],
             [
              0.3333333333333333,
              "#9c179e"
             ],
             [
              0.4444444444444444,
              "#bd3786"
             ],
             [
              0.5555555555555556,
              "#d8576b"
             ],
             [
              0.6666666666666666,
              "#ed7953"
             ],
             [
              0.7777777777777778,
              "#fb9f3a"
             ],
             [
              0.8888888888888888,
              "#fdca26"
             ],
             [
              1,
              "#f0f921"
             ]
            ],
            "type": "histogram2dcontour"
           }
          ],
          "mesh3d": [
           {
            "colorbar": {
             "outlinewidth": 0,
             "ticks": ""
            },
            "type": "mesh3d"
           }
          ],
          "parcoords": [
           {
            "line": {
             "colorbar": {
              "outlinewidth": 0,
              "ticks": ""
             }
            },
            "type": "parcoords"
           }
          ],
          "pie": [
           {
            "automargin": true,
            "type": "pie"
           }
          ],
          "scatter": [
           {
            "marker": {
             "colorbar": {
              "outlinewidth": 0,
              "ticks": ""
             }
            },
            "type": "scatter"
           }
          ],
          "scatter3d": [
           {
            "line": {
             "colorbar": {
              "outlinewidth": 0,
              "ticks": ""
             }
            },
            "marker": {
             "colorbar": {
              "outlinewidth": 0,
              "ticks": ""
             }
            },
            "type": "scatter3d"
           }
          ],
          "scattercarpet": [
           {
            "marker": {
             "colorbar": {
              "outlinewidth": 0,
              "ticks": ""
             }
            },
            "type": "scattercarpet"
           }
          ],
          "scattergeo": [
           {
            "marker": {
             "colorbar": {
              "outlinewidth": 0,
              "ticks": ""
             }
            },
            "type": "scattergeo"
           }
          ],
          "scattergl": [
           {
            "marker": {
             "colorbar": {
              "outlinewidth": 0,
              "ticks": ""
             }
            },
            "type": "scattergl"
           }
          ],
          "scattermapbox": [
           {
            "marker": {
             "colorbar": {
              "outlinewidth": 0,
              "ticks": ""
             }
            },
            "type": "scattermapbox"
           }
          ],
          "scatterpolar": [
           {
            "marker": {
             "colorbar": {
              "outlinewidth": 0,
              "ticks": ""
             }
            },
            "type": "scatterpolar"
           }
          ],
          "scatterpolargl": [
           {
            "marker": {
             "colorbar": {
              "outlinewidth": 0,
              "ticks": ""
             }
            },
            "type": "scatterpolargl"
           }
          ],
          "scatterternary": [
           {
            "marker": {
             "colorbar": {
              "outlinewidth": 0,
              "ticks": ""
             }
            },
            "type": "scatterternary"
           }
          ],
          "surface": [
           {
            "colorbar": {
             "outlinewidth": 0,
             "ticks": ""
            },
            "colorscale": [
             [
              0,
              "#0d0887"
             ],
             [
              0.1111111111111111,
              "#46039f"
             ],
             [
              0.2222222222222222,
              "#7201a8"
             ],
             [
              0.3333333333333333,
              "#9c179e"
             ],
             [
              0.4444444444444444,
              "#bd3786"
             ],
             [
              0.5555555555555556,
              "#d8576b"
             ],
             [
              0.6666666666666666,
              "#ed7953"
             ],
             [
              0.7777777777777778,
              "#fb9f3a"
             ],
             [
              0.8888888888888888,
              "#fdca26"
             ],
             [
              1,
              "#f0f921"
             ]
            ],
            "type": "surface"
           }
          ],
          "table": [
           {
            "cells": {
             "fill": {
              "color": "#EBF0F8"
             },
             "line": {
              "color": "white"
             }
            },
            "header": {
             "fill": {
              "color": "#C8D4E3"
             },
             "line": {
              "color": "white"
             }
            },
            "type": "table"
           }
          ]
         },
         "layout": {
          "annotationdefaults": {
           "arrowcolor": "#2a3f5f",
           "arrowhead": 0,
           "arrowwidth": 1
          },
          "coloraxis": {
           "colorbar": {
            "outlinewidth": 0,
            "ticks": ""
           }
          },
          "colorscale": {
           "diverging": [
            [
             0,
             "#8e0152"
            ],
            [
             0.1,
             "#c51b7d"
            ],
            [
             0.2,
             "#de77ae"
            ],
            [
             0.3,
             "#f1b6da"
            ],
            [
             0.4,
             "#fde0ef"
            ],
            [
             0.5,
             "#f7f7f7"
            ],
            [
             0.6,
             "#e6f5d0"
            ],
            [
             0.7,
             "#b8e186"
            ],
            [
             0.8,
             "#7fbc41"
            ],
            [
             0.9,
             "#4d9221"
            ],
            [
             1,
             "#276419"
            ]
           ],
           "sequential": [
            [
             0,
             "#0d0887"
            ],
            [
             0.1111111111111111,
             "#46039f"
            ],
            [
             0.2222222222222222,
             "#7201a8"
            ],
            [
             0.3333333333333333,
             "#9c179e"
            ],
            [
             0.4444444444444444,
             "#bd3786"
            ],
            [
             0.5555555555555556,
             "#d8576b"
            ],
            [
             0.6666666666666666,
             "#ed7953"
            ],
            [
             0.7777777777777778,
             "#fb9f3a"
            ],
            [
             0.8888888888888888,
             "#fdca26"
            ],
            [
             1,
             "#f0f921"
            ]
           ],
           "sequentialminus": [
            [
             0,
             "#0d0887"
            ],
            [
             0.1111111111111111,
             "#46039f"
            ],
            [
             0.2222222222222222,
             "#7201a8"
            ],
            [
             0.3333333333333333,
             "#9c179e"
            ],
            [
             0.4444444444444444,
             "#bd3786"
            ],
            [
             0.5555555555555556,
             "#d8576b"
            ],
            [
             0.6666666666666666,
             "#ed7953"
            ],
            [
             0.7777777777777778,
             "#fb9f3a"
            ],
            [
             0.8888888888888888,
             "#fdca26"
            ],
            [
             1,
             "#f0f921"
            ]
           ]
          },
          "colorway": [
           "#636efa",
           "#EF553B",
           "#00cc96",
           "#ab63fa",
           "#FFA15A",
           "#19d3f3",
           "#FF6692",
           "#B6E880",
           "#FF97FF",
           "#FECB52"
          ],
          "font": {
           "color": "#2a3f5f"
          },
          "geo": {
           "bgcolor": "white",
           "lakecolor": "white",
           "landcolor": "#E5ECF6",
           "showlakes": true,
           "showland": true,
           "subunitcolor": "white"
          },
          "hoverlabel": {
           "align": "left"
          },
          "hovermode": "closest",
          "mapbox": {
           "style": "light"
          },
          "paper_bgcolor": "white",
          "plot_bgcolor": "#E5ECF6",
          "polar": {
           "angularaxis": {
            "gridcolor": "white",
            "linecolor": "white",
            "ticks": ""
           },
           "bgcolor": "#E5ECF6",
           "radialaxis": {
            "gridcolor": "white",
            "linecolor": "white",
            "ticks": ""
           }
          },
          "scene": {
           "xaxis": {
            "backgroundcolor": "#E5ECF6",
            "gridcolor": "white",
            "gridwidth": 2,
            "linecolor": "white",
            "showbackground": true,
            "ticks": "",
            "zerolinecolor": "white"
           },
           "yaxis": {
            "backgroundcolor": "#E5ECF6",
            "gridcolor": "white",
            "gridwidth": 2,
            "linecolor": "white",
            "showbackground": true,
            "ticks": "",
            "zerolinecolor": "white"
           },
           "zaxis": {
            "backgroundcolor": "#E5ECF6",
            "gridcolor": "white",
            "gridwidth": 2,
            "linecolor": "white",
            "showbackground": true,
            "ticks": "",
            "zerolinecolor": "white"
           }
          },
          "shapedefaults": {
           "line": {
            "color": "#2a3f5f"
           }
          },
          "ternary": {
           "aaxis": {
            "gridcolor": "white",
            "linecolor": "white",
            "ticks": ""
           },
           "baxis": {
            "gridcolor": "white",
            "linecolor": "white",
            "ticks": ""
           },
           "bgcolor": "#E5ECF6",
           "caxis": {
            "gridcolor": "white",
            "linecolor": "white",
            "ticks": ""
           }
          },
          "title": {
           "x": 0.05
          },
          "xaxis": {
           "automargin": true,
           "gridcolor": "white",
           "linecolor": "white",
           "ticks": "",
           "title": {
            "standoff": 15
           },
           "zerolinecolor": "white",
           "zerolinewidth": 2
          },
          "yaxis": {
           "automargin": true,
           "gridcolor": "white",
           "linecolor": "white",
           "ticks": "",
           "title": {
            "standoff": 15
           },
           "zerolinecolor": "white",
           "zerolinewidth": 2
          }
         }
        },
        "xaxis": {
         "autorange": true,
         "linecolor": "black",
         "linewidth": 2,
         "range": [
          "2020-04-22 10:40",
          "2020-04-22 12:10"
         ],
         "showline": true,
         "title": {
          "font": {
           "size": 18
          },
          "text": "Time"
         },
         "type": "date"
        },
        "yaxis": {
         "autorange": true,
         "linecolor": "black",
         "linewidth": 2,
         "range": [
          -17.892463858651933,
          148.31012967677117
         ],
         "showline": true,
         "title": {
          "font": {
           "size": 18
          },
          "text": "Blood Glucose"
         },
         "type": "linear"
        }
       }
      },
      "image/png": "[encoded data removed]",
      "text/html": [
       "<div>\n",
       "        \n",
       "        \n",
       "            <div id=\"61524e08-aaee-4824-bce5-a4111ae44c6c\" class=\"plotly-graph-div\" style=\"height:525px; width:100%;\"></div>\n",
       "            <script type=\"text/javascript\">\n",
       "                require([\"plotly\"], function(Plotly) {\n",
       "                    window.PLOTLYENV=window.PLOTLYENV || {};\n",
       "                    \n",
       "                if (document.getElementById(\"61524e08-aaee-4824-bce5-a4111ae44c6c\")) {\n",
       "                    Plotly.newPlot(\n",
       "                        '61524e08-aaee-4824-bce5-a4111ae44c6c',\n",
       "                        [{\"mode\": \"lines\", \"name\": \"prediction\", \"type\": \"scatter\", \"x\": [\"2020-04-22T10:40:00\", \"2020-04-22T10:45:00\", \"2020-04-22T10:50:00\", \"2020-04-22T10:55:00\", \"2020-04-22T11:00:00\", \"2020-04-22T11:05:00\", \"2020-04-22T11:10:00\", \"2020-04-22T11:15:00\", \"2020-04-22T11:20:00\", \"2020-04-22T11:25:00\", \"2020-04-22T11:30:00\", \"2020-04-22T11:35:00\", \"2020-04-22T11:40:00\", \"2020-04-22T11:45:00\", \"2020-04-22T11:50:00\", \"2020-04-22T11:55:00\", \"2020-04-22T12:00:00\", \"2020-04-22T12:05:00\", \"2020-04-22T12:10:00\"], \"y\": [78.28817323488825, 77.51313704368071, 77.57915819138289, 78.5302945951489, 80.78223561739478, 84.43712577624865, 90.71742230065605, 100.3206534886948, 109.42041160720302, 111.64440098179806, 105.63001341440575, 94.40203834844098, 76.86721659838256, 58.40641280672249, 41.298239765586025, 23.271197736485806, 6.364993185449213, -3.9068761239115872, -9.582334181880778]}, {\"mode\": \"lines\", \"name\": \"lower bound\", \"type\": \"scatter\", \"x\": [\"2020-04-22T10:40:00\", \"2020-04-22T10:45:00\", \"2020-04-22T10:50:00\", \"2020-04-22T10:55:00\", \"2020-04-22T11:00:00\", \"2020-04-22T11:05:00\", \"2020-04-22T11:10:00\", \"2020-04-22T11:15:00\", \"2020-04-22T11:20:00\", \"2020-04-22T11:25:00\", \"2020-04-22T11:30:00\", \"2020-04-22T11:35:00\", \"2020-04-22T11:40:00\", \"2020-04-22T11:45:00\", \"2020-04-22T11:50:00\", \"2020-04-22T11:55:00\", \"2020-04-22T12:00:00\", \"2020-04-22T12:05:00\", \"2020-04-22T12:10:00\"], \"y\": [80.0, 80.0, 80.0, 80.0, 80.0, 80.0, 80.0, 80.0, 80.0, 80.0, 80.0, 80.0, 80.0, 80.0, 80.0, 80.0, 80.0, 80.0, 80.0]}, {\"mode\": \"lines\", \"name\": \"upper bound\", \"type\": \"scatter\", \"x\": [\"2020-04-22T10:40:00\", \"2020-04-22T10:45:00\", \"2020-04-22T10:50:00\", \"2020-04-22T10:55:00\", \"2020-04-22T11:00:00\", \"2020-04-22T11:05:00\", \"2020-04-22T11:10:00\", \"2020-04-22T11:15:00\", \"2020-04-22T11:20:00\", \"2020-04-22T11:25:00\", \"2020-04-22T11:30:00\", \"2020-04-22T11:35:00\", \"2020-04-22T11:40:00\", \"2020-04-22T11:45:00\", \"2020-04-22T11:50:00\", \"2020-04-22T11:55:00\", \"2020-04-22T12:00:00\", \"2020-04-22T12:05:00\", \"2020-04-22T12:10:00\"], \"y\": [140.0, 140.0, 140.0, 140.0, 140.0, 140.0, 140.0, 140.0, 140.0, 140.0, 140.0, 140.0, 140.0, 140.0, 140.0, 140.0, 140.0, 140.0, 140.0]}],\n",
       "                        {\"template\": {\"data\": {\"bar\": [{\"error_x\": {\"color\": \"#2a3f5f\"}, \"error_y\": {\"color\": \"#2a3f5f\"}, \"marker\": {\"line\": {\"color\": \"#E5ECF6\", \"width\": 0.5}}, \"type\": \"bar\"}], \"barpolar\": [{\"marker\": {\"line\": {\"color\": \"#E5ECF6\", \"width\": 0.5}}, \"type\": \"barpolar\"}], \"carpet\": [{\"aaxis\": {\"endlinecolor\": \"#2a3f5f\", \"gridcolor\": \"white\", \"linecolor\": \"white\", \"minorgridcolor\": \"white\", \"startlinecolor\": \"#2a3f5f\"}, \"baxis\": {\"endlinecolor\": \"#2a3f5f\", \"gridcolor\": \"white\", \"linecolor\": \"white\", \"minorgridcolor\": \"white\", \"startlinecolor\": \"#2a3f5f\"}, \"type\": \"carpet\"}], \"choropleth\": [{\"colorbar\": {\"outlinewidth\": 0, \"ticks\": \"\"}, \"type\": \"choropleth\"}], \"contour\": [{\"colorbar\": {\"outlinewidth\": 0, \"ticks\": \"\"}, \"colorscale\": [[0.0, \"#0d0887\"], [0.1111111111111111, \"#46039f\"], [0.2222222222222222, \"#7201a8\"], [0.3333333333333333, \"#9c179e\"], [0.4444444444444444, \"#bd3786\"], [0.5555555555555556, \"#d8576b\"], [0.6666666666666666, \"#ed7953\"], [0.7777777777777778, \"#fb9f3a\"], [0.8888888888888888, \"#fdca26\"], [1.0, \"#f0f921\"]], \"type\": \"contour\"}], \"contourcarpet\": [{\"colorbar\": {\"outlinewidth\": 0, \"ticks\": \"\"}, \"type\": \"contourcarpet\"}], \"heatmap\": [{\"colorbar\": {\"outlinewidth\": 0, \"ticks\": \"\"}, \"colorscale\": [[0.0, \"#0d0887\"], [0.1111111111111111, \"#46039f\"], [0.2222222222222222, \"#7201a8\"], [0.3333333333333333, \"#9c179e\"], [0.4444444444444444, \"#bd3786\"], [0.5555555555555556, \"#d8576b\"], [0.6666666666666666, \"#ed7953\"], [0.7777777777777778, \"#fb9f3a\"], [0.8888888888888888, \"#fdca26\"], [1.0, \"#f0f921\"]], \"type\": \"heatmap\"}], \"heatmapgl\": [{\"colorbar\": {\"outlinewidth\": 0, \"ticks\": \"\"}, \"colorscale\": [[0.0, \"#0d0887\"], [0.1111111111111111, \"#46039f\"], [0.2222222222222222, \"#7201a8\"], [0.3333333333333333, \"#9c179e\"], [0.4444444444444444, \"#bd3786\"], [0.5555555555555556, \"#d8576b\"], [0.6666666666666666, \"#ed7953\"], [0.7777777777777778, \"#fb9f3a\"], [0.8888888888888888, \"#fdca26\"], [1.0, \"#f0f921\"]], \"type\": \"heatmapgl\"}], \"histogram\": [{\"marker\": {\"colorbar\": {\"outlinewidth\": 0, \"ticks\": \"\"}}, \"type\": \"histogram\"}], \"histogram2d\": [{\"colorbar\": {\"outlinewidth\": 0, \"ticks\": \"\"}, \"colorscale\": [[0.0, \"#0d0887\"], [0.1111111111111111, \"#46039f\"], [0.2222222222222222, \"#7201a8\"], [0.3333333333333333, \"#9c179e\"], [0.4444444444444444, \"#bd3786\"], [0.5555555555555556, \"#d8576b\"], [0.6666666666666666, \"#ed7953\"], [0.7777777777777778, \"#fb9f3a\"], [0.8888888888888888, \"#fdca26\"], [1.0, \"#f0f921\"]], \"type\": \"histogram2d\"}], \"histogram2dcontour\": [{\"colorbar\": {\"outlinewidth\": 0, \"ticks\": \"\"}, \"colorscale\": [[0.0, \"#0d0887\"], [0.1111111111111111, \"#46039f\"], [0.2222222222222222, \"#7201a8\"], [0.3333333333333333, \"#9c179e\"], [0.4444444444444444, \"#bd3786\"], [0.5555555555555556, \"#d8576b\"], [0.6666666666666666, \"#ed7953\"], [0.7777777777777778, \"#fb9f3a\"], [0.8888888888888888, \"#fdca26\"], [1.0, \"#f0f921\"]], \"type\": \"histogram2dcontour\"}], \"mesh3d\": [{\"colorbar\": {\"outlinewidth\": 0, \"ticks\": \"\"}, \"type\": \"mesh3d\"}], \"parcoords\": [{\"line\": {\"colorbar\": {\"outlinewidth\": 0, \"ticks\": \"\"}}, \"type\": \"parcoords\"}], \"pie\": [{\"automargin\": true, \"type\": \"pie\"}], \"scatter\": [{\"marker\": {\"colorbar\": {\"outlinewidth\": 0, \"ticks\": \"\"}}, \"type\": \"scatter\"}], \"scatter3d\": [{\"line\": {\"colorbar\": {\"outlinewidth\": 0, \"ticks\": \"\"}}, \"marker\": {\"colorbar\": {\"outlinewidth\": 0, \"ticks\": \"\"}}, \"type\": \"scatter3d\"}], \"scattercarpet\": [{\"marker\": {\"colorbar\": {\"outlinewidth\": 0, \"ticks\": \"\"}}, \"type\": \"scattercarpet\"}], \"scattergeo\": [{\"marker\": {\"colorbar\": {\"outlinewidth\": 0, \"ticks\": \"\"}}, \"type\": \"scattergeo\"}], \"scattergl\": [{\"marker\": {\"colorbar\": {\"outlinewidth\": 0, \"ticks\": \"\"}}, \"type\": \"scattergl\"}], \"scattermapbox\": [{\"marker\": {\"colorbar\": {\"outlinewidth\": 0, \"ticks\": \"\"}}, \"type\": \"scattermapbox\"}], \"scatterpolar\": [{\"marker\": {\"colorbar\": {\"outlinewidth\": 0, \"ticks\": \"\"}}, \"type\": \"scatterpolar\"}], \"scatterpolargl\": [{\"marker\": {\"colorbar\": {\"outlinewidth\": 0, \"ticks\": \"\"}}, \"type\": \"scatterpolargl\"}], \"scatterternary\": [{\"marker\": {\"colorbar\": {\"outlinewidth\": 0, \"ticks\": \"\"}}, \"type\": \"scatterternary\"}], \"surface\": [{\"colorbar\": {\"outlinewidth\": 0, \"ticks\": \"\"}, \"colorscale\": [[0.0, \"#0d0887\"], [0.1111111111111111, \"#46039f\"], [0.2222222222222222, \"#7201a8\"], [0.3333333333333333, \"#9c179e\"], [0.4444444444444444, \"#bd3786\"], [0.5555555555555556, \"#d8576b\"], [0.6666666666666666, \"#ed7953\"], [0.7777777777777778, \"#fb9f3a\"], [0.8888888888888888, \"#fdca26\"], [1.0, \"#f0f921\"]], \"type\": \"surface\"}], \"table\": [{\"cells\": {\"fill\": {\"color\": \"#EBF0F8\"}, \"line\": {\"color\": \"white\"}}, \"header\": {\"fill\": {\"color\": \"#C8D4E3\"}, \"line\": {\"color\": \"white\"}}, \"type\": \"table\"}]}, \"layout\": {\"annotationdefaults\": {\"arrowcolor\": \"#2a3f5f\", \"arrowhead\": 0, \"arrowwidth\": 1}, \"coloraxis\": {\"colorbar\": {\"outlinewidth\": 0, \"ticks\": \"\"}}, \"colorscale\": {\"diverging\": [[0, \"#8e0152\"], [0.1, \"#c51b7d\"], [0.2, \"#de77ae\"], [0.3, \"#f1b6da\"], [0.4, \"#fde0ef\"], [0.5, \"#f7f7f7\"], [0.6, \"#e6f5d0\"], [0.7, \"#b8e186\"], [0.8, \"#7fbc41\"], [0.9, \"#4d9221\"], [1, \"#276419\"]], \"sequential\": [[0.0, \"#0d0887\"], [0.1111111111111111, \"#46039f\"], [0.2222222222222222, \"#7201a8\"], [0.3333333333333333, \"#9c179e\"], [0.4444444444444444, \"#bd3786\"], [0.5555555555555556, \"#d8576b\"], [0.6666666666666666, \"#ed7953\"], [0.7777777777777778, \"#fb9f3a\"], [0.8888888888888888, \"#fdca26\"], [1.0, \"#f0f921\"]], \"sequentialminus\": [[0.0, \"#0d0887\"], [0.1111111111111111, \"#46039f\"], [0.2222222222222222, \"#7201a8\"], [0.3333333333333333, \"#9c179e\"], [0.4444444444444444, \"#bd3786\"], [0.5555555555555556, \"#d8576b\"], [0.6666666666666666, \"#ed7953\"], [0.7777777777777778, \"#fb9f3a\"], [0.8888888888888888, \"#fdca26\"], [1.0, \"#f0f921\"]]}, \"colorway\": [\"#636efa\", \"#EF553B\", \"#00cc96\", \"#ab63fa\", \"#FFA15A\", \"#19d3f3\", \"#FF6692\", \"#B6E880\", \"#FF97FF\", \"#FECB52\"], \"font\": {\"color\": \"#2a3f5f\"}, \"geo\": {\"bgcolor\": \"white\", \"lakecolor\": \"white\", \"landcolor\": \"#E5ECF6\", \"showlakes\": true, \"showland\": true, \"subunitcolor\": \"white\"}, \"hoverlabel\": {\"align\": \"left\"}, \"hovermode\": \"closest\", \"mapbox\": {\"style\": \"light\"}, \"paper_bgcolor\": \"white\", \"plot_bgcolor\": \"#E5ECF6\", \"polar\": {\"angularaxis\": {\"gridcolor\": \"white\", \"linecolor\": \"white\", \"ticks\": \"\"}, \"bgcolor\": \"#E5ECF6\", \"radialaxis\": {\"gridcolor\": \"white\", \"linecolor\": \"white\", \"ticks\": \"\"}}, \"scene\": {\"xaxis\": {\"backgroundcolor\": \"#E5ECF6\", \"gridcolor\": \"white\", \"gridwidth\": 2, \"linecolor\": \"white\", \"showbackground\": true, \"ticks\": \"\", \"zerolinecolor\": \"white\"}, \"yaxis\": {\"backgroundcolor\": \"#E5ECF6\", \"gridcolor\": \"white\", \"gridwidth\": 2, \"linecolor\": \"white\", \"showbackground\": true, \"ticks\": \"\", \"zerolinecolor\": \"white\"}, \"zaxis\": {\"backgroundcolor\": \"#E5ECF6\", \"gridcolor\": \"white\", \"gridwidth\": 2, \"linecolor\": \"white\", \"showbackground\": true, \"ticks\": \"\", \"zerolinecolor\": \"white\"}}, \"shapedefaults\": {\"line\": {\"color\": \"#2a3f5f\"}}, \"ternary\": {\"aaxis\": {\"gridcolor\": \"white\", \"linecolor\": \"white\", \"ticks\": \"\"}, \"baxis\": {\"gridcolor\": \"white\", \"linecolor\": \"white\", \"ticks\": \"\"}, \"bgcolor\": \"#E5ECF6\", \"caxis\": {\"gridcolor\": \"white\", \"linecolor\": \"white\", \"ticks\": \"\"}}, \"title\": {\"x\": 0.05}, \"xaxis\": {\"automargin\": true, \"gridcolor\": \"white\", \"linecolor\": \"white\", \"ticks\": \"\", \"title\": {\"standoff\": 15}, \"zerolinecolor\": \"white\", \"zerolinewidth\": 2}, \"yaxis\": {\"automargin\": true, \"gridcolor\": \"white\", \"linecolor\": \"white\", \"ticks\": \"\", \"title\": {\"standoff\": 15}, \"zerolinecolor\": \"white\", \"zerolinewidth\": 2}}}, \"xaxis\": {\"linecolor\": \"black\", \"linewidth\": 2, \"showline\": true, \"title\": {\"font\": {\"size\": 18}, \"text\": \"Time\"}}, \"yaxis\": {\"linecolor\": \"black\", \"linewidth\": 2, \"showline\": true, \"title\": {\"font\": {\"size\": 18}, \"text\": \"Blood Glucose\"}}},\n",
       "                        {\"responsive\": true}\n",
       "                    ).then(function(){\n",
       "                            \n",
       "var gd = document.getElementById('61524e08-aaee-4824-bce5-a4111ae44c6c');\n",
       "var x = new MutationObserver(function (mutations, observer) {{\n",
       "        var display = window.getComputedStyle(gd).display;\n",
       "        if (!display || display === 'none') {{\n",
       "            console.log([gd, 'removed!']);\n",
       "            Plotly.purge(gd);\n",
       "            observer.disconnect();\n",
       "        }}\n",
       "}});\n",
       "\n",
       "// Listen for the removal of the full notebook cells\n",
       "var notebookContainer = gd.closest('#notebook-container');\n",
       "if (notebookContainer) {{\n",
       "    x.observe(notebookContainer, {childList: true});\n",
       "}}\n",
       "\n",
       "// Listen for the clearing of the current output cell\n",
       "var outputEl = gd.closest('.output');\n",
       "if (outputEl) {{\n",
       "    x.observe(outputEl, {childList: true});\n",
       "}}\n",
       "\n",
       "                        })\n",
       "                };\n",
       "                });\n",
       "            </script>\n",
       "        </div>"
      ]
     },
     "metadata": {},
     "output_type": "display_data"
    }
   ],
   "source": [
    "fig = go.Figure()\n",
    "fig.add_trace(\n",
    "    go.Scatter(\n",
    "        x=y_ind,\n",
    "        y=ypred,\n",
    "        mode='lines',\n",
    "        name='prediction')\n",
    "    )\n",
    "fig.add_trace(\n",
    "    go.Scatter(\n",
    "        x=y_ind,\n",
    "        y=np.ones(len(y_ind))*patient.target_range[0],\n",
    "        mode='lines',\n",
    "        name='lower bound')\n",
    "    )\n",
    "fig.add_trace(\n",
    "    go.Scatter(\n",
    "        x=y_ind,\n",
    "        y=np.ones(len(y_ind))*patient.target_range[1],\n",
    "        mode='lines',\n",
    "        name='upper bound')\n",
    "    )\n",
    "fig.update_xaxes(\n",
    "    title_text='Time',\n",
    "    title_font=dict(size=18),\n",
    "    showline=True, \n",
    "    linewidth=2, \n",
    "    linecolor='black')\n",
    "fig.update_yaxes(\n",
    "    title_text='Blood Glucose', \n",
    "    title_font=dict(size=18),\n",
    "    showline=True, \n",
    "    linewidth=2, \n",
    "    linecolor='black')\n",
    "fig.show()"
   ]
  },
  {
   "cell_type": "code",
   "execution_count": 10,
   "metadata": {},
   "outputs": [
    {
     "name": "stdout",
     "output_type": "stream",
     "text": [
      "Collecting jupyter-dash\n",
      "  Downloading jupyter_dash-0.3.1-py3-none-any.whl (49 kB)\n",
      "\u001b[K     |████████████████████████████████| 49 kB 1.5 MB/s eta 0:00:011\n",
      "\u001b[?25hRequirement already satisfied: requests in /Users/arcuate/anaconda3/envs/3p8/lib/python3.8/site-packages (from jupyter-dash) (2.23.0)\n",
      "Requirement already satisfied: ipython in /Users/arcuate/anaconda3/envs/3p8/lib/python3.8/site-packages (from jupyter-dash) (7.13.0)\n",
      "Collecting flask\n",
      "  Downloading Flask-1.1.2-py2.py3-none-any.whl (94 kB)\n",
      "\u001b[K     |████████████████████████████████| 94 kB 5.2 MB/s eta 0:00:011\n",
      "\u001b[?25hRequirement already satisfied: retrying in /Users/arcuate/anaconda3/envs/3p8/lib/python3.8/site-packages (from jupyter-dash) (1.3.3)\n",
      "Requirement already satisfied: ipykernel in /Users/arcuate/anaconda3/envs/3p8/lib/python3.8/site-packages (from jupyter-dash) (5.2.1)\n",
      "Collecting ansi2html\n",
      "  Downloading ansi2html-1.5.2.tar.gz (27 kB)\n",
      "Collecting dash\n",
      "  Downloading dash-1.15.0.tar.gz (71 kB)\n",
      "\u001b[K     |████████████████████████████████| 71 kB 20.9 MB/s eta 0:00:01\n",
      "\u001b[?25hRequirement already satisfied: certifi>=2017.4.17 in /Users/arcuate/anaconda3/envs/3p8/lib/python3.8/site-packages (from requests->jupyter-dash) (2020.6.20)\n",
      "Requirement already satisfied: urllib3!=1.25.0,!=1.25.1,<1.26,>=1.21.1 in /Users/arcuate/anaconda3/envs/3p8/lib/python3.8/site-packages (from requests->jupyter-dash) (1.25.9)\n",
      "Requirement already satisfied: chardet<4,>=3.0.2 in /Users/arcuate/anaconda3/envs/3p8/lib/python3.8/site-packages (from requests->jupyter-dash) (3.0.4)\n",
      "Requirement already satisfied: idna<3,>=2.5 in /Users/arcuate/anaconda3/envs/3p8/lib/python3.8/site-packages (from requests->jupyter-dash) (2.9)\n",
      "Requirement already satisfied: decorator in /Users/arcuate/anaconda3/envs/3p8/lib/python3.8/site-packages (from ipython->jupyter-dash) (4.4.2)\n",
      "Requirement already satisfied: jedi>=0.10 in /Users/arcuate/anaconda3/envs/3p8/lib/python3.8/site-packages (from ipython->jupyter-dash) (0.17.0)\n",
      "Requirement already satisfied: appnope; sys_platform == \"darwin\" in /Users/arcuate/anaconda3/envs/3p8/lib/python3.8/site-packages (from ipython->jupyter-dash) (0.1.0)\n",
      "Requirement already satisfied: backcall in /Users/arcuate/anaconda3/envs/3p8/lib/python3.8/site-packages (from ipython->jupyter-dash) (0.1.0)\n",
      "Requirement already satisfied: pexpect; sys_platform != \"win32\" in /Users/arcuate/anaconda3/envs/3p8/lib/python3.8/site-packages (from ipython->jupyter-dash) (4.8.0)\n",
      "Requirement already satisfied: pickleshare in /Users/arcuate/anaconda3/envs/3p8/lib/python3.8/site-packages (from ipython->jupyter-dash) (0.7.5)\n",
      "Requirement already satisfied: traitlets>=4.2 in /Users/arcuate/anaconda3/envs/3p8/lib/python3.8/site-packages (from ipython->jupyter-dash) (4.3.3)\n",
      "Requirement already satisfied: setuptools>=18.5 in /Users/arcuate/anaconda3/envs/3p8/lib/python3.8/site-packages (from ipython->jupyter-dash) (46.1.3.post20200330)\n",
      "Requirement already satisfied: pygments in /Users/arcuate/anaconda3/envs/3p8/lib/python3.8/site-packages (from ipython->jupyter-dash) (2.6.1)\n",
      "Requirement already satisfied: prompt-toolkit!=3.0.0,!=3.0.1,<3.1.0,>=2.0.0 in /Users/arcuate/anaconda3/envs/3p8/lib/python3.8/site-packages (from ipython->jupyter-dash) (3.0.5)\n",
      "Collecting click>=5.1\n",
      "  Downloading click-7.1.2-py2.py3-none-any.whl (82 kB)\n",
      "\u001b[K     |████████████████████████████████| 82 kB 5.0 MB/s  eta 0:00:01\n",
      "\u001b[?25hCollecting itsdangerous>=0.24\n",
      "  Using cached itsdangerous-1.1.0-py2.py3-none-any.whl (16 kB)\n",
      "Collecting Werkzeug>=0.15\n",
      "  Downloading Werkzeug-1.0.1-py2.py3-none-any.whl (298 kB)\n",
      "\u001b[K     |████████████████████████████████| 298 kB 13.1 MB/s eta 0:00:01\n",
      "\u001b[?25hRequirement already satisfied: Jinja2>=2.10.1 in /Users/arcuate/anaconda3/envs/3p8/lib/python3.8/site-packages (from flask->jupyter-dash) (2.11.2)\n",
      "Requirement already satisfied: six>=1.7.0 in /Users/arcuate/anaconda3/envs/3p8/lib/python3.8/site-packages (from retrying->jupyter-dash) (1.14.0)\n",
      "Requirement already satisfied: jupyter-client in /Users/arcuate/anaconda3/envs/3p8/lib/python3.8/site-packages (from ipykernel->jupyter-dash) (6.1.3)\n",
      "Requirement already satisfied: tornado>=4.2 in /Users/arcuate/anaconda3/envs/3p8/lib/python3.8/site-packages (from ipykernel->jupyter-dash) (6.0.4)\n",
      "Collecting flask-compress\n",
      "  Downloading Flask-Compress-1.5.0.tar.gz (6.5 kB)\n",
      "Requirement already satisfied: plotly in /Users/arcuate/anaconda3/envs/3p8/lib/python3.8/site-packages (from dash->jupyter-dash) (4.6.0)\n",
      "Collecting dash_renderer==1.7.0\n",
      "  Downloading dash_renderer-1.7.0.tar.gz (1.2 MB)\n",
      "\u001b[K     |████████████████████████████████| 1.2 MB 13.5 MB/s eta 0:00:01\n",
      "\u001b[?25hCollecting dash-core-components==1.11.0\n",
      "  Downloading dash_core_components-1.11.0.tar.gz (3.4 MB)\n",
      "\u001b[K     |████████████████████████████████| 3.4 MB 29.2 MB/s eta 0:00:01\n",
      "\u001b[?25hCollecting dash-html-components==1.1.0\n",
      "  Downloading dash_html_components-1.1.0.tar.gz (188 kB)\n",
      "\u001b[K     |████████████████████████████████| 188 kB 19.0 MB/s eta 0:00:01\n",
      "\u001b[?25hCollecting dash-table==4.10.0\n",
      "  Downloading dash_table-4.10.0.tar.gz (1.8 MB)\n",
      "\u001b[K     |████████████████████████████████| 1.8 MB 21.3 MB/s eta 0:00:01\n",
      "\u001b[?25hCollecting future\n",
      "  Downloading future-0.18.2.tar.gz (829 kB)\n",
      "\u001b[K     |████████████████████████████████| 829 kB 35.3 MB/s eta 0:00:01\n",
      "\u001b[?25hRequirement already satisfied: parso>=0.7.0 in /Users/arcuate/anaconda3/envs/3p8/lib/python3.8/site-packages (from jedi>=0.10->ipython->jupyter-dash) (0.7.0)\n",
      "Requirement already satisfied: ptyprocess>=0.5 in /Users/arcuate/anaconda3/envs/3p8/lib/python3.8/site-packages (from pexpect; sys_platform != \"win32\"->ipython->jupyter-dash) (0.6.0)\n",
      "Requirement already satisfied: ipython-genutils in /Users/arcuate/anaconda3/envs/3p8/lib/python3.8/site-packages (from traitlets>=4.2->ipython->jupyter-dash) (0.2.0)\n",
      "Requirement already satisfied: wcwidth in /Users/arcuate/anaconda3/envs/3p8/lib/python3.8/site-packages (from prompt-toolkit!=3.0.0,!=3.0.1,<3.1.0,>=2.0.0->ipython->jupyter-dash) (0.1.9)\n",
      "Requirement already satisfied: MarkupSafe>=0.23 in /Users/arcuate/anaconda3/envs/3p8/lib/python3.8/site-packages (from Jinja2>=2.10.1->flask->jupyter-dash) (1.1.1)\n",
      "Requirement already satisfied: jupyter-core>=4.6.0 in /Users/arcuate/anaconda3/envs/3p8/lib/python3.8/site-packages (from jupyter-client->ipykernel->jupyter-dash) (4.6.3)\n",
      "Requirement already satisfied: pyzmq>=13 in /Users/arcuate/anaconda3/envs/3p8/lib/python3.8/site-packages (from jupyter-client->ipykernel->jupyter-dash) (18.1.1)\n",
      "Requirement already satisfied: python-dateutil>=2.1 in /Users/arcuate/anaconda3/envs/3p8/lib/python3.8/site-packages (from jupyter-client->ipykernel->jupyter-dash) (2.8.1)\n",
      "Collecting brotli\n",
      "  Downloading Brotli-1.0.9-cp38-cp38-macosx_10_9_x86_64.whl (421 kB)\n",
      "\u001b[K     |████████████████████████████████| 421 kB 28.5 MB/s eta 0:00:01\n",
      "\u001b[?25hBuilding wheels for collected packages: ansi2html, dash, flask-compress, dash-renderer, dash-core-components, dash-html-components, dash-table, future\n",
      "  Building wheel for ansi2html (setup.py) ... \u001b[?25ldone\n",
      "\u001b[?25h  Created wheel for ansi2html: filename=ansi2html-1.5.2-py3-none-any.whl size=13860 sha256=ba07c550b1efebe8206d58f816a77fc3b2bb6a3d316a1b982995dddfc13923f6\n",
      "  Stored in directory: /Users/arcuate/Library/Caches/pip/wheels/ca/a7/87/094710b7b840bec5629444cc84be691b3bfdbcc7eb2a9e4ec8\n",
      "  Building wheel for dash (setup.py) ... \u001b[?25ldone\n",
      "\u001b[?25h  Created wheel for dash: filename=dash-1.15.0-py3-none-any.whl size=80892 sha256=974b4f7cebdb22f97c252d06f63b737131d1ebb71b64bc524a3191d8eac00e46\n",
      "  Stored in directory: /Users/arcuate/Library/Caches/pip/wheels/29/a8/d1/84fb945f35923b1b5814a86b0547356f719540f582b22527d4\n",
      "  Building wheel for flask-compress (setup.py) ... \u001b[?25ldone\n",
      "\u001b[?25h  Created wheel for flask-compress: filename=Flask_Compress-1.5.0-py3-none-any.whl size=5271 sha256=9556980a5d8c563b12dc52987494e2e79cdcc4d67272c9905e69f5a59c7b48e3\n",
      "  Stored in directory: /Users/arcuate/Library/Caches/pip/wheels/39/3f/1a/07c215cf8b8f924cde78277257a31e254ef267ade7a99c909e\n",
      "  Building wheel for dash-renderer (setup.py) ... \u001b[?25ldone\n",
      "\u001b[?25h  Created wheel for dash-renderer: filename=dash_renderer-1.7.0-py3-none-any.whl size=1182218 sha256=83a74fac3e0675b52d65819c9206098e4443327d67898d73b6f1fb5d07fba5e8\n",
      "  Stored in directory: /Users/arcuate/Library/Caches/pip/wheels/4e/ec/37/92307ea39d60f13be1a51425496b518d16dbd542608e730023\n",
      "  Building wheel for dash-core-components (setup.py) ... \u001b[?25ldone\n",
      "\u001b[?25h  Created wheel for dash-core-components: filename=dash_core_components-1.11.0-py3-none-any.whl size=3458462 sha256=eb61ed828399f61e6dd2b9b99c63fd985a94dd6ccf9e283e83916ece0803ddbf\n",
      "  Stored in directory: /Users/arcuate/Library/Caches/pip/wheels/c5/43/74/eb70735e1c89505a40631c6fd807b85f1cfadec8f061d97b0f\n",
      "  Building wheel for dash-html-components (setup.py) ... \u001b[?25ldone\n",
      "\u001b[?25h  Created wheel for dash-html-components: filename=dash_html_components-1.1.0-py3-none-any.whl size=427896 sha256=3d183f75e629d398b481f453efdaefd57ed7e9846bd3a2ea33009b89a7173959\n",
      "  Stored in directory: /Users/arcuate/Library/Caches/pip/wheels/2d/a3/0d/881f2daf3664ea8821c8e6302dde8a2007e79aecec6a401b11\n",
      "  Building wheel for dash-table (setup.py) ... \u001b[?25ldone\n",
      "\u001b[?25h  Created wheel for dash-table: filename=dash_table-4.10.0-py3-none-any.whl size=1824999 sha256=0cd3b8b62367f733efdd47b9363c5c03eb589cfd621f6c8a352d9bf6b70aa777\n",
      "  Stored in directory: /Users/arcuate/Library/Caches/pip/wheels/88/ab/63/13ed59cf4695e6acd2e75bdc3c5cad1cc44bfbb963dab04f12\n",
      "  Building wheel for future (setup.py) ... \u001b[?25ldone\n",
      "\u001b[?25h  Created wheel for future: filename=future-0.18.2-py3-none-any.whl size=491058 sha256=7409a5e68b1b2ebaa4960e494d311bdbd8ee13309ed0635b2da346ad886400de\n",
      "  Stored in directory: /Users/arcuate/Library/Caches/pip/wheels/8e/70/28/3d6ccd6e315f65f245da085482a2e1c7d14b90b30f239e2cf4\n",
      "Successfully built ansi2html dash flask-compress dash-renderer dash-core-components dash-html-components dash-table future\n",
      "Installing collected packages: click, itsdangerous, Werkzeug, flask, ansi2html, brotli, flask-compress, dash-renderer, dash-core-components, dash-html-components, dash-table, future, dash, jupyter-dash\n",
      "Successfully installed Werkzeug-1.0.1 ansi2html-1.5.2 brotli-1.0.9 click-7.1.2 dash-1.15.0 dash-core-components-1.11.0 dash-html-components-1.1.0 dash-renderer-1.7.0 dash-table-4.10.0 flask-1.1.2 flask-compress-1.5.0 future-0.18.2 itsdangerous-1.1.0 jupyter-dash-0.3.1\n"
     ]
    }
   ],
   "source": [
    "!pip install jupyter-dash"
   ]
  },
  {
   "cell_type": "code",
   "execution_count": 12,
   "metadata": {},
   "outputs": [
    {
     "name": "stdout",
     "output_type": "stream",
     "text": [
      "[LabBuildApp] JupyterLab 2.1.1\n",
      "[LabBuildApp] Building in /Users/arcuate/anaconda3/envs/3p8/share/jupyter/lab\n",
      "[LabBuildApp] Building jupyterlab assets (build:prod:minimize)\n"
     ]
    }
   ],
   "source": [
    "!jupyter lab build"
   ]
  },
  {
   "cell_type": "code",
   "execution_count": 9,
   "metadata": {},
   "outputs": [
    {
     "name": "stdout",
     "output_type": "stream",
     "text": [
      "JupyterLab v2.1.1\n",
      "Known labextensions:\n",
      "   app dir: /Users/arcuate/anaconda3/envs/3p8/share/jupyter/lab\n",
      "        @jupyter-widgets/jupyterlab-manager v2.0.0 \u001b[32m enabled \u001b[0m \u001b[32mOK\u001b[0m\n",
      "        @jupyterlab/toc v3.0.0 \u001b[32m enabled \u001b[0m \u001b[32mOK\u001b[0m\n",
      "        jupyter-matplotlib v0.7.3 \u001b[32m enabled \u001b[0m \u001b[32mOK\u001b[0m\n",
      "        jupyterlab-dash v0.3.0 \u001b[32m enabled \u001b[0m \u001b[32mOK\u001b[0m\n"
     ]
    }
   ],
   "source": [
    "!jupyter labextension list"
   ]
  },
  {
   "cell_type": "code",
   "execution_count": null,
   "metadata": {},
   "outputs": [],
   "source": []
  }
 ],
 "metadata": {
  "kernelspec": {
   "display_name": "Python 3",
   "language": "python",
   "name": "python3"
  },
  "language_info": {
   "codemirror_mode": {
    "name": "ipython",
    "version": 3
   },
   "file_extension": ".py",
   "mimetype": "text/x-python",
   "name": "python",
   "nbconvert_exporter": "python",
   "pygments_lexer": "ipython3",
   "version": "3.8.2"
  }
 },
 "nbformat": 4,
 "nbformat_minor": 4
}
